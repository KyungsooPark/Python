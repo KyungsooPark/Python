{
  "nbformat": 4,
  "nbformat_minor": 0,
  "metadata": {
    "colab": {
      "name": "u12_딕셔너리.ipynb",
      "provenance": [],
      "collapsed_sections": []
    },
    "kernelspec": {
      "name": "python3",
      "display_name": "Python 3"
    },
    "language_info": {
      "name": "python"
    }
  },
  "cells": [
    {
      "cell_type": "markdown",
      "metadata": {
        "id": "TXbGH7UXRyda"
      },
      "source": [
        "# Unit 12. 딕셔너리(Dictionary)"
      ]
    },
    {
      "cell_type": "code",
      "metadata": {
        "colab": {
          "base_uri": "https://localhost:8080/"
        },
        "id": "QqednenaRwpV",
        "outputId": "6e6fdaf8-608a-4aef-dca1-8248dcbff881"
      },
      "source": [
        "lux = [490, 334, 550, 18.72]\n",
        "lux"
      ],
      "execution_count": 1,
      "outputs": [
        {
          "output_type": "execute_result",
          "data": {
            "text/plain": [
              "[490, 334, 550, 18.72]"
            ]
          },
          "metadata": {
            "tags": []
          },
          "execution_count": 1
        }
      ]
    },
    {
      "cell_type": "code",
      "metadata": {
        "colab": {
          "base_uri": "https://localhost:8080/"
        },
        "id": "A1A5_gTzSG4E",
        "outputId": "ddacb49d-6d53-4496-9655-f576e05688b1"
      },
      "source": [
        "lux = {\n",
        "    'health' : 490,     #체력\n",
        "    'mana' : 334,       #마력\n",
        "    'melee' : 550,      #사거리\n",
        "    'armor' : 18.72     #방어력\n",
        "}\n",
        "lux"
      ],
      "execution_count": 4,
      "outputs": [
        {
          "output_type": "execute_result",
          "data": {
            "text/plain": [
              "{'armor': 18.72, 'health': 490, 'mana': 334, 'melee': 550}"
            ]
          },
          "metadata": {
            "tags": []
          },
          "execution_count": 4
        }
      ]
    },
    {
      "cell_type": "markdown",
      "metadata": {
        "id": "bIjRZJzmTjoT"
      },
      "source": [
        "## 12.1 딕셔너리 생성"
      ]
    },
    {
      "cell_type": "code",
      "metadata": {
        "colab": {
          "base_uri": "https://localhost:8080/"
        },
        "id": "8cKsJPNfSlkW",
        "outputId": "85edf5dc-54ec-40f2-efea-cd8b70b420fe"
      },
      "source": [
        "lux = {'health' : 490, 'health' : 800, 'mana' : 334, 'melee' : 550, 'armor' : 18.72}\n",
        "lux"
      ],
      "execution_count": 6,
      "outputs": [
        {
          "output_type": "execute_result",
          "data": {
            "text/plain": [
              "{'armor': 18.72, 'health': 800, 'mana': 334, 'melee': 550}"
            ]
          },
          "metadata": {
            "tags": []
          },
          "execution_count": 6
        }
      ]
    },
    {
      "cell_type": "code",
      "metadata": {
        "colab": {
          "base_uri": "https://localhost:8080/"
        },
        "id": "XJiDK3ATT4UC",
        "outputId": "74cc0682-b411-4dd2-d734-2dd685b092c5"
      },
      "source": [
        "a= {}\n",
        "b = dict()\n",
        "a,b"
      ],
      "execution_count": 7,
      "outputs": [
        {
          "output_type": "execute_result",
          "data": {
            "text/plain": [
              "({}, {})"
            ]
          },
          "metadata": {
            "tags": []
          },
          "execution_count": 7
        }
      ]
    },
    {
      "cell_type": "code",
      "metadata": {
        "colab": {
          "base_uri": "https://localhost:8080/"
        },
        "id": "zjZ2FYjiU8BU",
        "outputId": "a70df867-94b6-4646-a426-8b8393d3e35c"
      },
      "source": [
        "a = set((1,2,3))\n",
        "a"
      ],
      "execution_count": 8,
      "outputs": [
        {
          "output_type": "execute_result",
          "data": {
            "text/plain": [
              "{1, 2, 3}"
            ]
          },
          "metadata": {
            "tags": []
          },
          "execution_count": 8
        }
      ]
    },
    {
      "cell_type": "code",
      "metadata": {
        "colab": {
          "base_uri": "https://localhost:8080/"
        },
        "id": "Wy7DrcJLVHtR",
        "outputId": "0fc372d1-81d7-4053-8a74-832ffa59893e"
      },
      "source": [
        "a = ['a','b','c','d']\n",
        "b = [1,2,3,4]\n",
        "dict(zip(a,b))"
      ],
      "execution_count": 9,
      "outputs": [
        {
          "output_type": "execute_result",
          "data": {
            "text/plain": [
              "{'a': 1, 'b': 2, 'c': 3, 'd': 4}"
            ]
          },
          "metadata": {
            "tags": []
          },
          "execution_count": 9
        }
      ]
    },
    {
      "cell_type": "code",
      "metadata": {
        "colab": {
          "base_uri": "https://localhost:8080/"
        },
        "id": "ZWL4oVpvVoHs",
        "outputId": "643e6840-c726-4d6d-a5c2-852b5452436a"
      },
      "source": [
        "set((1,2))"
      ],
      "execution_count": 10,
      "outputs": [
        {
          "output_type": "execute_result",
          "data": {
            "text/plain": [
              "{1, 2}"
            ]
          },
          "metadata": {
            "tags": []
          },
          "execution_count": 10
        }
      ]
    },
    {
      "cell_type": "markdown",
      "metadata": {
        "id": "Sm5ZEh8qV-wg"
      },
      "source": [
        "## 12.2 딕셔너리 키에 접근하고 값 할당하기"
      ]
    },
    {
      "cell_type": "code",
      "metadata": {
        "colab": {
          "base_uri": "https://localhost:8080/"
        },
        "id": "PQ7R1PvFVt-c",
        "outputId": "3c880bed-668a-457b-be20-2d222408b561"
      },
      "source": [
        "lux"
      ],
      "execution_count": 11,
      "outputs": [
        {
          "output_type": "execute_result",
          "data": {
            "text/plain": [
              "{'armor': 18.72, 'health': 800, 'mana': 334, 'melee': 550}"
            ]
          },
          "metadata": {
            "tags": []
          },
          "execution_count": 11
        }
      ]
    },
    {
      "cell_type": "code",
      "metadata": {
        "colab": {
          "base_uri": "https://localhost:8080/"
        },
        "id": "U9C2KttbWQpY",
        "outputId": "3e8bbbc0-3862-424b-b769-b1c42d783724"
      },
      "source": [
        "lux['mana'], lux['armor']"
      ],
      "execution_count": 12,
      "outputs": [
        {
          "output_type": "execute_result",
          "data": {
            "text/plain": [
              "(334, 18.72)"
            ]
          },
          "metadata": {
            "tags": []
          },
          "execution_count": 12
        }
      ]
    },
    {
      "cell_type": "code",
      "metadata": {
        "colab": {
          "base_uri": "https://localhost:8080/"
        },
        "id": "SJmIhhoGWX4h",
        "outputId": "c7ced2bc-d3ba-403b-a740-d152da8086b4"
      },
      "source": [
        "# 키 값이 기존 딕셔너리에 없으면 새롭게 추가\n",
        "lux['new'] = 10\n",
        "lux"
      ],
      "execution_count": 13,
      "outputs": [
        {
          "output_type": "execute_result",
          "data": {
            "text/plain": [
              "{'armor': 18.72, 'health': 800, 'mana': 334, 'melee': 550, 'new': 10}"
            ]
          },
          "metadata": {
            "tags": []
          },
          "execution_count": 13
        }
      ]
    },
    {
      "cell_type": "code",
      "metadata": {
        "colab": {
          "base_uri": "https://localhost:8080/"
        },
        "id": "4-n3lGCJXabX",
        "outputId": "c6b6cf6c-4763-4b36-97c3-7e5c6c9a9e23"
      },
      "source": [
        "# 키 값이 딕셔너리에 있으면 값이 변경\n",
        "lux['mana'] = 1000\n",
        "lux"
      ],
      "execution_count": 15,
      "outputs": [
        {
          "output_type": "execute_result",
          "data": {
            "text/plain": [
              "{'armor': 18.72, 'health': 800, 'mana': 1000, 'melee': 550, 'new': 10}"
            ]
          },
          "metadata": {
            "tags": []
          },
          "execution_count": 15
        }
      ]
    },
    {
      "cell_type": "code",
      "metadata": {
        "colab": {
          "base_uri": "https://localhost:8080/"
        },
        "id": "VRaWQU7hXmLF",
        "outputId": "fc8bd660-9b1d-4816-c8fb-3295f7246b38"
      },
      "source": [
        "'mana' in lux"
      ],
      "execution_count": 16,
      "outputs": [
        {
          "output_type": "execute_result",
          "data": {
            "text/plain": [
              "True"
            ]
          },
          "metadata": {
            "tags": []
          },
          "execution_count": 16
        }
      ]
    },
    {
      "cell_type": "code",
      "metadata": {
        "colab": {
          "base_uri": "https://localhost:8080/"
        },
        "id": "QL62e048YG-L",
        "outputId": "3e233321-dae9-4625-b447-8b8bf720b3b4"
      },
      "source": [
        "# 'mana' 항목이 존재하면 기존 값 +100, 없으면 값이 50이 되게 만드시오.\n",
        "e = {}\n",
        "\n",
        "if 'mana' in e:\n",
        "  e['mana'] = e['mana'] + 100\n",
        "else :\n",
        "  e['mana'] = 50\n",
        "\n",
        "e"
      ],
      "execution_count": 18,
      "outputs": [
        {
          "output_type": "execute_result",
          "data": {
            "text/plain": [
              "{'mana': 50}"
            ]
          },
          "metadata": {
            "tags": []
          },
          "execution_count": 18
        }
      ]
    },
    {
      "cell_type": "markdown",
      "metadata": {
        "id": "-rp6f6bPZND2"
      },
      "source": [
        "## 딕셔너리 키의 개수"
      ]
    },
    {
      "cell_type": "code",
      "metadata": {
        "colab": {
          "base_uri": "https://localhost:8080/"
        },
        "id": "HDBrJhqBY-vN",
        "outputId": "4cb53b5b-96d7-4c8a-850b-fdb4b8ba8c11"
      },
      "source": [
        "lux"
      ],
      "execution_count": 19,
      "outputs": [
        {
          "output_type": "execute_result",
          "data": {
            "text/plain": [
              "{'armor': 18.72, 'health': 800, 'mana': 1000, 'melee': 550, 'new': 10}"
            ]
          },
          "metadata": {
            "tags": []
          },
          "execution_count": 19
        }
      ]
    },
    {
      "cell_type": "code",
      "metadata": {
        "colab": {
          "base_uri": "https://localhost:8080/"
        },
        "id": "oqhdvPLfZS3c",
        "outputId": "6285fcca-8b29-4a6a-c97a-cf0e113dd69e"
      },
      "source": [
        "len(lux)"
      ],
      "execution_count": 20,
      "outputs": [
        {
          "output_type": "execute_result",
          "data": {
            "text/plain": [
              "5"
            ]
          },
          "metadata": {
            "tags": []
          },
          "execution_count": 20
        }
      ]
    },
    {
      "cell_type": "code",
      "metadata": {
        "colab": {
          "base_uri": "https://localhost:8080/"
        },
        "id": "kX1Kyb6VZVXA",
        "outputId": "c1f5c712-d0da-4548-d1da-0715d3455dbe"
      },
      "source": [
        "type(lux)"
      ],
      "execution_count": 21,
      "outputs": [
        {
          "output_type": "execute_result",
          "data": {
            "text/plain": [
              "dict"
            ]
          },
          "metadata": {
            "tags": []
          },
          "execution_count": 21
        }
      ]
    },
    {
      "cell_type": "code",
      "metadata": {
        "colab": {
          "base_uri": "https://localhost:8080/"
        },
        "id": "gJ057LWMZ7L4",
        "outputId": "f8043cd1-38ea-4469-b1b9-bda6d53a5a83"
      },
      "source": [
        "type(lux['armor'])"
      ],
      "execution_count": 22,
      "outputs": [
        {
          "output_type": "execute_result",
          "data": {
            "text/plain": [
              "float"
            ]
          },
          "metadata": {
            "tags": []
          },
          "execution_count": 22
        }
      ]
    },
    {
      "cell_type": "code",
      "metadata": {
        "colab": {
          "base_uri": "https://localhost:8080/"
        },
        "id": "C-RBCpG5aLpU",
        "outputId": "45536caf-3f03-4451-ef83-ce8f6acdf612"
      },
      "source": [
        "lux['mana'], lux['armor']"
      ],
      "execution_count": 23,
      "outputs": [
        {
          "output_type": "execute_result",
          "data": {
            "text/plain": [
              "(1000, 18.72)"
            ]
          },
          "metadata": {
            "tags": []
          },
          "execution_count": 23
        }
      ]
    },
    {
      "cell_type": "markdown",
      "metadata": {
        "id": "fz87z1GFbkoE"
      },
      "source": [
        "## 반복문, 추후 학습 예정"
      ]
    },
    {
      "cell_type": "code",
      "metadata": {
        "colab": {
          "base_uri": "https://localhost:8080/"
        },
        "id": "CfgfyE-_acD-",
        "outputId": "1218e2a7-28b7-4e61-e549-353e89df8d0a"
      },
      "source": [
        "lux.keys()"
      ],
      "execution_count": 25,
      "outputs": [
        {
          "output_type": "execute_result",
          "data": {
            "text/plain": [
              "dict_keys(['health', 'mana', 'melee', 'armor', 'new'])"
            ]
          },
          "metadata": {
            "tags": []
          },
          "execution_count": 25
        }
      ]
    },
    {
      "cell_type": "code",
      "metadata": {
        "colab": {
          "base_uri": "https://localhost:8080/"
        },
        "id": "aEytap5lalG5",
        "outputId": "2b499038-0bea-4dc4-e09f-346037fa8fda"
      },
      "source": [
        "for key in lux.keys():\n",
        "  print(f'{key}: {lux[key]}')"
      ],
      "execution_count": 27,
      "outputs": [
        {
          "output_type": "stream",
          "text": [
            "health: 800\n",
            "mana: 1000\n",
            "melee: 550\n",
            "armor: 18.72\n",
            "new: 10\n"
          ],
          "name": "stdout"
        }
      ]
    },
    {
      "cell_type": "code",
      "metadata": {
        "colab": {
          "base_uri": "https://localhost:8080/"
        },
        "id": "YsRZB9I-a9Tn",
        "outputId": "b1c9b559-c320-415b-84fb-c1e3aab239be"
      },
      "source": [
        "for key, value in lux.items():\n",
        "  print(f'{key}: {value}')"
      ],
      "execution_count": 28,
      "outputs": [
        {
          "output_type": "stream",
          "text": [
            "health: 800\n",
            "mana: 1000\n",
            "melee: 550\n",
            "armor: 18.72\n",
            "new: 10\n"
          ],
          "name": "stdout"
        }
      ]
    },
    {
      "cell_type": "code",
      "metadata": {
        "colab": {
          "base_uri": "https://localhost:8080/"
        },
        "id": "NJ9Kb-g9bPQk",
        "outputId": "e8952517-12ef-4c4e-892c-f69d939bc1e7"
      },
      "source": [
        "lux.items()"
      ],
      "execution_count": 29,
      "outputs": [
        {
          "output_type": "execute_result",
          "data": {
            "text/plain": [
              "dict_items([('health', 800), ('mana', 1000), ('melee', 550), ('armor', 18.72), ('new', 10)])"
            ]
          },
          "metadata": {
            "tags": []
          },
          "execution_count": 29
        }
      ]
    },
    {
      "cell_type": "code",
      "metadata": {
        "id": "-8iElGv4bVUB"
      },
      "source": [
        ""
      ],
      "execution_count": null,
      "outputs": []
    }
  ]
}