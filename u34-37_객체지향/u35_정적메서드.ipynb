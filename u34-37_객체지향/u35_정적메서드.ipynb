{
  "nbformat": 4,
  "nbformat_minor": 0,
  "metadata": {
    "colab": {
      "name": "u35_정적메서드.ipynb",
      "provenance": [],
      "collapsed_sections": []
    },
    "kernelspec": {
      "name": "python3",
      "display_name": "Python 3"
    },
    "language_info": {
      "name": "python"
    }
  },
  "cells": [
    {
      "cell_type": "markdown",
      "metadata": {
        "id": "jr1cucNaBDU1"
      },
      "source": [
        "# Unit 35. 정적 메서드"
      ]
    },
    {
      "cell_type": "code",
      "metadata": {
        "id": "cZ8MnzmgA9zM"
      },
      "source": [
        "class Calc:\n",
        "  @staticmethod\n",
        "  def add(a,b):\n",
        "    print(a+b)\n"
      ],
      "execution_count": 4,
      "outputs": []
    },
    {
      "cell_type": "code",
      "metadata": {
        "colab": {
          "base_uri": "https://localhost:8080/"
        },
        "id": "zSiHNAzNBdbD",
        "outputId": "2c9ddad6-6d0e-46f9-ab57-c97e1d5850f0"
      },
      "source": [
        "Calc.add(10,20)"
      ],
      "execution_count": 5,
      "outputs": [
        {
          "output_type": "stream",
          "text": [
            "30\n"
          ],
          "name": "stdout"
        }
      ]
    },
    {
      "cell_type": "code",
      "metadata": {
        "id": "symwUd1ZBrUR"
      },
      "source": [
        ""
      ],
      "execution_count": null,
      "outputs": []
    }
  ]
}