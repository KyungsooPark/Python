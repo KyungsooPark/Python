{
  "nbformat": 4,
  "nbformat_minor": 0,
  "metadata": {
    "colab": {
      "name": "u34_클래스.ipynb",
      "provenance": [],
      "collapsed_sections": []
    },
    "kernelspec": {
      "name": "python3",
      "display_name": "Python 3"
    },
    "language_info": {
      "name": "python"
    }
  },
  "cells": [
    {
      "cell_type": "markdown",
      "metadata": {
        "id": "F45Soyq47ffY"
      },
      "source": [
        "# Unit 34. 클래스(Class)"
      ]
    },
    {
      "cell_type": "markdown",
      "metadata": {
        "id": "nVaWo78X7qQK"
      },
      "source": [
        "## 34.1 클래스와 메서드 만들기"
      ]
    },
    {
      "cell_type": "code",
      "metadata": {
        "id": "KljZFVct7n_9"
      },
      "source": [
        "class Person:                # 클래스 이름은 대문자로 시작\n",
        "  def greeting(self):\n",
        "    print('Hello')\n",
        "\n"
      ],
      "execution_count": null,
      "outputs": []
    },
    {
      "cell_type": "code",
      "metadata": {
        "id": "ATa_2KsUzEj5"
      },
      "source": [
        "# 인스턴스를 만들어야 클래스를 사용할 수 있다\n",
        "james = Person()\n",
        "maria = Person()"
      ],
      "execution_count": null,
      "outputs": []
    },
    {
      "cell_type": "code",
      "metadata": {
        "colab": {
          "base_uri": "https://localhost:8080/"
        },
        "id": "6wToKTIx8MCg",
        "outputId": "447b4952-23e0-4abb-8b7c-3d3ff15ae9d3"
      },
      "source": [
        "james.greeting()"
      ],
      "execution_count": null,
      "outputs": [
        {
          "output_type": "stream",
          "text": [
            "Hello\n"
          ],
          "name": "stdout"
        }
      ]
    },
    {
      "cell_type": "code",
      "metadata": {
        "colab": {
          "base_uri": "https://localhost:8080/"
        },
        "id": "rkuSH89a8iDn",
        "outputId": "3dc9d021-4414-4999-e360-e25f767f9761"
      },
      "source": [
        "maria.greeting()"
      ],
      "execution_count": null,
      "outputs": [
        {
          "output_type": "stream",
          "text": [
            "Hello\n"
          ],
          "name": "stdout"
        }
      ]
    },
    {
      "cell_type": "code",
      "metadata": {
        "colab": {
          "base_uri": "https://localhost:8080/"
        },
        "id": "aG8dS3Yi8kbX",
        "outputId": "7ce5668b-7c9e-41a5-b61b-0b6dbc9c7224"
      },
      "source": [
        "Person().greeting()"
      ],
      "execution_count": null,
      "outputs": [
        {
          "output_type": "stream",
          "text": [
            "Hello\n"
          ],
          "name": "stdout"
        }
      ]
    },
    {
      "cell_type": "code",
      "metadata": {
        "id": "UiD_kMbr8rFS"
      },
      "source": [
        "# 클래스 내에서 메서드 호출하기\n",
        "class Person:                \n",
        "  def greeting(self):\n",
        "    print('Hello')\n",
        "\n",
        "  def hello(self):\n",
        "    self.greeting()"
      ],
      "execution_count": null,
      "outputs": []
    },
    {
      "cell_type": "code",
      "metadata": {
        "colab": {
          "base_uri": "https://localhost:8080/"
        },
        "id": "n2RAOw9K-Q8q",
        "outputId": "2f46908c-fc0c-40a3-b2b8-048de7cda87d"
      },
      "source": [
        "james = Person()\n",
        "james.hello()"
      ],
      "execution_count": null,
      "outputs": [
        {
          "output_type": "stream",
          "text": [
            "Hello\n"
          ],
          "name": "stdout"
        }
      ]
    },
    {
      "cell_type": "code",
      "metadata": {
        "colab": {
          "base_uri": "https://localhost:8080/"
        },
        "id": "w1KkUElR-hoK",
        "outputId": "cbc818ab-2902-46a8-f843-41325568f776"
      },
      "source": [
        "isinstance(james, Person)"
      ],
      "execution_count": null,
      "outputs": [
        {
          "output_type": "execute_result",
          "data": {
            "text/plain": [
              "True"
            ]
          },
          "metadata": {
            "tags": []
          },
          "execution_count": 17
        }
      ]
    },
    {
      "cell_type": "code",
      "metadata": {
        "id": "OCTVf144-ugw"
      },
      "source": [
        "def factorial(n):\n",
        "  if not isinstance(n, int) or n <0:\n",
        "    return None\n",
        "  if n == 0:\n",
        "    return 1\n",
        "  return n*factorial(n-1)"
      ],
      "execution_count": null,
      "outputs": []
    },
    {
      "cell_type": "code",
      "metadata": {
        "id": "pY5EnAHo_Roy"
      },
      "source": [
        "factorial(3.14)"
      ],
      "execution_count": null,
      "outputs": []
    },
    {
      "cell_type": "code",
      "metadata": {
        "colab": {
          "base_uri": "https://localhost:8080/"
        },
        "id": "HTbKJDn6_Uoh",
        "outputId": "9f702334-32d5-45a1-dcb7-22d7f4babba9"
      },
      "source": [
        "factorial(6)"
      ],
      "execution_count": null,
      "outputs": [
        {
          "output_type": "execute_result",
          "data": {
            "text/plain": [
              "720"
            ]
          },
          "metadata": {
            "tags": []
          },
          "execution_count": 20
        }
      ]
    },
    {
      "cell_type": "markdown",
      "metadata": {
        "id": "PUSYttfE_sQ5"
      },
      "source": [
        "## 34.2 속성(Attribute)"
      ]
    },
    {
      "cell_type": "code",
      "metadata": {
        "id": "G_uhCpXU_WiP"
      },
      "source": [
        "class Person:                \n",
        "  def __init__(self):\n",
        "    self.hello = '안녕하세요'       # hello 속성을 갖게 됨\n",
        "  def greeting(self):\n",
        "    print(self.hello)"
      ],
      "execution_count": null,
      "outputs": []
    },
    {
      "cell_type": "code",
      "metadata": {
        "colab": {
          "base_uri": "https://localhost:8080/"
        },
        "id": "_gN8fh8nAI3X",
        "outputId": "0cdb9e1f-0686-4bc7-de8f-eff7c9ffb9c7"
      },
      "source": [
        "maria = Person()\n",
        "maria.greeting()"
      ],
      "execution_count": null,
      "outputs": [
        {
          "output_type": "stream",
          "text": [
            "안녕하세요\n"
          ],
          "name": "stdout"
        }
      ]
    },
    {
      "cell_type": "code",
      "metadata": {
        "colab": {
          "base_uri": "https://localhost:8080/"
        },
        "id": "47bXO1RKAN5D",
        "outputId": "66fb271b-66c6-4da7-e4cf-0423ae36546a"
      },
      "source": [
        "maria.hello = 'How are you?'\n",
        "maria.greeting()"
      ],
      "execution_count": null,
      "outputs": [
        {
          "output_type": "stream",
          "text": [
            "How are you?\n"
          ],
          "name": "stdout"
        }
      ]
    },
    {
      "cell_type": "code",
      "metadata": {
        "id": "sQdzCsWoA0jj"
      },
      "source": [
        "class Person:\n",
        "  def __init__(self, hello):        # Constructor\n",
        "    self.hello = hello\n",
        "  \n",
        "  def greeting(self):\n",
        "    print(self.hello)"
      ],
      "execution_count": null,
      "outputs": []
    },
    {
      "cell_type": "code",
      "metadata": {
        "id": "0OGoE-fEBzy8"
      },
      "source": [
        "james = Person('안녕하세요?')\n",
        "maria = Person('How are you?')"
      ],
      "execution_count": null,
      "outputs": []
    },
    {
      "cell_type": "code",
      "metadata": {
        "colab": {
          "base_uri": "https://localhost:8080/"
        },
        "id": "t1s6G-R3B--K",
        "outputId": "7432b963-a7c7-4838-b0d5-37d62c2620e5"
      },
      "source": [
        "james.greeting()\n",
        "maria.greeting()"
      ],
      "execution_count": null,
      "outputs": [
        {
          "output_type": "stream",
          "text": [
            "안녕하세요?\n",
            "How are you?\n"
          ],
          "name": "stdout"
        }
      ]
    },
    {
      "cell_type": "code",
      "metadata": {
        "id": "4AaDuwP9CEEQ"
      },
      "source": [
        "class Person:\n",
        "  def __init__(self, name, age, addr):\n",
        "    self.hello = '안녕하세요?'\n",
        "    self.name = name\n",
        "    self.age = age\n",
        "    self.addr = addr\n",
        "\n",
        "  def greeting(self):\n",
        "    print(f'{self.hello} 저는 {self.name}입니다.')\n",
        "  \n",
        "  #JAVA의 toString() method\n",
        "  def __str__(self):\n",
        "    return f'hello: {self.hello}, name: {self.name}, age: {self.age}, addr: {self.addr}' "
      ],
      "execution_count": null,
      "outputs": []
    },
    {
      "cell_type": "code",
      "metadata": {
        "colab": {
          "base_uri": "https://localhost:8080/"
        },
        "id": "VchXsQceDK8b",
        "outputId": "de8b6b9a-c90d-4ef0-fce4-ec01de5a4a5c"
      },
      "source": [
        "maria = Person('마리아', 23, '서울시 강남구 도곡동')\n",
        "maria.greeting()"
      ],
      "execution_count": null,
      "outputs": [
        {
          "output_type": "stream",
          "text": [
            "안녕하세요? 저는 마리아입니다.\n"
          ],
          "name": "stdout"
        }
      ]
    },
    {
      "cell_type": "code",
      "metadata": {
        "colab": {
          "base_uri": "https://localhost:8080/"
        },
        "id": "6YUOlnxYDXpi",
        "outputId": "8c780868-057e-4cf7-eba2-fc8cc4145f74"
      },
      "source": [
        "print(maria)"
      ],
      "execution_count": null,
      "outputs": [
        {
          "output_type": "stream",
          "text": [
            "hello: 안녕하세요?, name: 마리아, age: 23, addr: 서울시 강남구 도곡동\n"
          ],
          "name": "stdout"
        }
      ]
    },
    {
      "cell_type": "markdown",
      "metadata": {
        "id": "oiXL74vRV2in"
      },
      "source": [
        "## 34.3 비공개 속성"
      ]
    },
    {
      "cell_type": "code",
      "metadata": {
        "colab": {
          "base_uri": "https://localhost:8080/"
        },
        "id": "hlqRzGWJUsck",
        "outputId": "03661123-c18c-4f07-d795-4332de428467"
      },
      "source": [
        "maria.age = 30\n",
        "print(maria)"
      ],
      "execution_count": null,
      "outputs": [
        {
          "output_type": "stream",
          "text": [
            "hello: 안녕하세요?, name: 마리아, age: 30, addr: 서울시 강남구 도곡동\n"
          ],
          "name": "stdout"
        }
      ]
    },
    {
      "cell_type": "code",
      "metadata": {
        "id": "d_E2jHtVWTzk"
      },
      "source": [
        "class Person:\n",
        "  def __init__(self, name, age, addr, wallet):\n",
        "    self.hello = '안녕하세요?'\n",
        "    self.name = name\n",
        "    self.age = age\n",
        "    self.addr = addr\n",
        "    self.__wallet = wallet     # wallet 속성은 비공개\n",
        "\n",
        "  def greeting(self):\n",
        "    print(f'{self.hello} 저는 {self.name}입니다.')\n",
        "\n",
        "  def pay(self, amount):\n",
        "    if self.__wallet - amount < 0:\n",
        "      print('지갑에 돈이 부족합니다')\n",
        "      return\n",
        "    self.__wallet -= amount\n",
        "    print(f'지갑에 남은 돈은 {self.__wallet}입니다')\n",
        "\n",
        "  #JAVA의 toString() method\n",
        "  def __str__(self):\n",
        "    return f'hello: {self.hello}, name: {self.name}, age: {self.age}, addr: {self.addr}, wallet: {self.__wallet}' "
      ],
      "execution_count": null,
      "outputs": []
    },
    {
      "cell_type": "code",
      "metadata": {
        "id": "HDEQMEC1W7nh"
      },
      "source": [
        "james = Person('제임스', 27, '서울시 강남구 도곡동', 10000)"
      ],
      "execution_count": null,
      "outputs": []
    },
    {
      "cell_type": "code",
      "metadata": {
        "colab": {
          "base_uri": "https://localhost:8080/"
        },
        "id": "ecOghnn4cXaP",
        "outputId": "700b6a2b-811d-4fbe-8fb0-3416a8260269"
      },
      "source": [
        "james.greeting()"
      ],
      "execution_count": null,
      "outputs": [
        {
          "output_type": "stream",
          "text": [
            "안녕하세요? 저는 제임스입니다.\n"
          ],
          "name": "stdout"
        }
      ]
    },
    {
      "cell_type": "code",
      "metadata": {
        "colab": {
          "base_uri": "https://localhost:8080/"
        },
        "id": "K8VpRlA-XE5A",
        "outputId": "fc0007f9-7f99-45b8-8531-838a621bf59e"
      },
      "source": [
        "print(james)"
      ],
      "execution_count": null,
      "outputs": [
        {
          "output_type": "stream",
          "text": [
            "hello: 안녕하세요?, name: 제임스, age: 27, addr: 서울시 강남구 도곡동, wallet: 10000\n"
          ],
          "name": "stdout"
        }
      ]
    },
    {
      "cell_type": "code",
      "metadata": {
        "id": "W_RjWNI1XHLo"
      },
      "source": [
        "james.__wallet = 100000     # 비공개 속성이므로 클래스 밖에서는 값이 변경되지 않음"
      ],
      "execution_count": null,
      "outputs": []
    },
    {
      "cell_type": "code",
      "metadata": {
        "colab": {
          "base_uri": "https://localhost:8080/"
        },
        "id": "JbsyMz66XTb0",
        "outputId": "14db6a56-d7b7-43ef-c123-f89633636295"
      },
      "source": [
        "print(james)"
      ],
      "execution_count": null,
      "outputs": [
        {
          "output_type": "stream",
          "text": [
            "hello: 안녕하세요?, name: 제임스, age: 27, addr: 서울시 강남구 도곡동, wallet: 10000\n"
          ],
          "name": "stdout"
        }
      ]
    },
    {
      "cell_type": "code",
      "metadata": {
        "colab": {
          "base_uri": "https://localhost:8080/"
        },
        "id": "SvFF33ZpXVUv",
        "outputId": "a9e282c5-1261-4331-ef79-e63c03b812f2"
      },
      "source": [
        "james.pay(5000)"
      ],
      "execution_count": null,
      "outputs": [
        {
          "output_type": "stream",
          "text": [
            "지갑에 남은 돈은 5000입니다\n"
          ],
          "name": "stdout"
        }
      ]
    },
    {
      "cell_type": "code",
      "metadata": {
        "colab": {
          "base_uri": "https://localhost:8080/"
        },
        "id": "5SV5yAjdZPvN",
        "outputId": "5e347a2b-6a2e-40ea-e94c-e08502abe7f7"
      },
      "source": [
        "james.pay(10000)"
      ],
      "execution_count": null,
      "outputs": [
        {
          "output_type": "stream",
          "text": [
            "지갑에 돈이 부족합니다\n"
          ],
          "name": "stdout"
        }
      ]
    },
    {
      "cell_type": "markdown",
      "metadata": {
        "id": "q4-rhjyBZdcx"
      },
      "source": [
        "### 연습문제\n",
        "## Account 클래스 만들기\n",
        "- ano: 문자열 6글자, '123456'\n",
        "- owner: 문자열\n",
        "- balance: 잔액, 비공개속성\n",
        "\n",
        "## Method\n",
        "- 생성자\n",
        "- deposit(amount)     잔액이 1000만원 이상은 입금할 수 없음\n",
        "- withdraw(amout)     잔액이 0원 미만이면 출금할 수 없음\n",
        "- 출력 가능하게"
      ]
    },
    {
      "cell_type": "code",
      "metadata": {
        "id": "aReQcTlCZ-3Y"
      },
      "source": [
        "class Account:\n",
        "  def __init__(self, ano, owner, balance):\n",
        "    self.ano = ano\n",
        "    self.owner = owner\n",
        "    self.__balance = balance\n",
        "\n",
        "  def deposit(self, amount):\n",
        "    if amount + self.__balance >= 10000000:\n",
        "      print('천만원 이상은 잔액으로 가져갈 수 없습니다')\n",
        "      return\n",
        "    self.__balance += amount\n",
        "\n",
        "  def withdraw(self, amount):\n",
        "    if self.__balance - amount < 0:\n",
        "      print('잔액이 부족합니다.')\n",
        "      return\n",
        "    self.__balance -= amount\n",
        "\n",
        "  def __str__(self):\n",
        "    return f'계좌번호: {self.ano}, 소유주: {self.owner}, 잔액: {self.__balance:9,d}'\n"
      ],
      "execution_count": 2,
      "outputs": []
    },
    {
      "cell_type": "code",
      "metadata": {
        "colab": {
          "base_uri": "https://localhost:8080/"
        },
        "id": "OrUzY80EeR8t",
        "outputId": "77f27c58-a9a4-4a22-b889-e84c81db4f74"
      },
      "source": [
        "acc = Account('123456', '제임스', 100000)\n",
        "print(acc)"
      ],
      "execution_count": 9,
      "outputs": [
        {
          "output_type": "stream",
          "text": [
            "계좌번호: 123456, 소유주: 제임스, 잔액:   100,000\n"
          ],
          "name": "stdout"
        }
      ]
    },
    {
      "cell_type": "code",
      "metadata": {
        "colab": {
          "base_uri": "https://localhost:8080/"
        },
        "id": "iYbg0VKEeaYk",
        "outputId": "02a77178-3373-4744-8aea-59c223b08dbd"
      },
      "source": [
        "acc.deposit(3000000)\n",
        "print(acc)"
      ],
      "execution_count": null,
      "outputs": [
        {
          "output_type": "stream",
          "text": [
            "계좌번호: 123456, 소유주: 제임스, 잔액: 3,400,000\n"
          ],
          "name": "stdout"
        }
      ]
    },
    {
      "cell_type": "code",
      "metadata": {
        "colab": {
          "base_uri": "https://localhost:8080/"
        },
        "id": "c-6ketyqekRd",
        "outputId": "297b9f42-08ea-4f6e-f56f-5a8fe9af5001"
      },
      "source": [
        "acc.deposit(7000000)\n",
        "print(acc)"
      ],
      "execution_count": null,
      "outputs": [
        {
          "output_type": "stream",
          "text": [
            "천만원 이상은 잔액으로 가져갈 수 없습니다\n",
            "계좌번호: 123456, 소유주: 제임스, 잔액: 3,400,000\n"
          ],
          "name": "stdout"
        }
      ]
    },
    {
      "cell_type": "code",
      "metadata": {
        "colab": {
          "base_uri": "https://localhost:8080/"
        },
        "id": "Xf-bSr_peslr",
        "outputId": "1c700d06-2a7d-4be4-a43b-3920e7875f50"
      },
      "source": [
        "acc.withdraw(2000000)\n",
        "print(acc)"
      ],
      "execution_count": null,
      "outputs": [
        {
          "output_type": "stream",
          "text": [
            "계좌번호: 123456, 소유주: 제임스, 잔액: 1,400,000\n"
          ],
          "name": "stdout"
        }
      ]
    },
    {
      "cell_type": "code",
      "metadata": {
        "colab": {
          "base_uri": "https://localhost:8080/"
        },
        "id": "Ct0Q3no6e0r_",
        "outputId": "a17872a3-b2bc-41ef-9399-d8cf5843cdbf"
      },
      "source": [
        "acc.withdraw(2000000)\n",
        "print(acc)"
      ],
      "execution_count": null,
      "outputs": [
        {
          "output_type": "stream",
          "text": [
            "잔액이 부족합니다.\n",
            "계좌번호: 123456, 소유주: 제임스, 잔액: 1,400,000\n"
          ],
          "name": "stdout"
        }
      ]
    },
    {
      "cell_type": "code",
      "metadata": {
        "colab": {
          "base_uri": "https://localhost:8080/"
        },
        "id": "RmBP62M9e23o",
        "outputId": "2fd32592-e06a-4353-b342-c751f7d553dd"
      },
      "source": [
        "acc2 = Account('987432', '마리아', 3000000)\n",
        "print(acc2)"
      ],
      "execution_count": 8,
      "outputs": [
        {
          "output_type": "stream",
          "text": [
            "계좌번호: 987432, 소유주: 마리아, 잔액: 3,000,000\n"
          ],
          "name": "stdout"
        }
      ]
    },
    {
      "cell_type": "code",
      "metadata": {
        "id": "y-Pt55nqfH3o"
      },
      "source": [
        "acc_list = [acc, acc2]"
      ],
      "execution_count": 10,
      "outputs": []
    },
    {
      "cell_type": "code",
      "metadata": {
        "colab": {
          "base_uri": "https://localhost:8080/"
        },
        "id": "6mM6tApsfTTx",
        "outputId": "c5f472cc-74ce-43c3-c832-d6f20a617fb5"
      },
      "source": [
        "for account in acc_list:\n",
        "  print(account)"
      ],
      "execution_count": null,
      "outputs": [
        {
          "output_type": "stream",
          "text": [
            "계좌번호: 123456, 소유주: 제임스, 잔액: 1,400,000\n",
            "계좌번호: 987432, 소유주: 마리아, 잔액: 3,000,000\n"
          ],
          "name": "stdout"
        }
      ]
    },
    {
      "cell_type": "markdown",
      "metadata": {
        "id": "Oc-U_IyPfqqm"
      },
      "source": [
        "### 1.계좌생성, 2.계좌목록, 3.입금, 4.출금, 5.종료"
      ]
    },
    {
      "cell_type": "code",
      "metadata": {
        "id": "v6vAv4mWshP-"
      },
      "source": [
        "# 계좌번호의 중복을 체크\n",
        "def check_duplicate(ano):\n",
        "    for acc in acc_list:\n",
        "        if ano == acc.ano:\n",
        "            return True\n",
        "    return False"
      ],
      "execution_count": 3,
      "outputs": []
    },
    {
      "cell_type": "code",
      "metadata": {
        "id": "k5kiT2mbkY5f"
      },
      "source": [
        "# 사용자로부터 필요한 정보를 입력 받아서 계좌를 생성함\n",
        "def create_account():\n",
        "    while True:\n",
        "        s = input('계좌번호 성명 금액> ').split()\n",
        "        ano, owner = s[0], s[1]\n",
        "        amount = int(s[2])\n",
        "        if not check_duplicate(ano):\n",
        "            break\n",
        "    acc = Account(ano, owner, amount)\n",
        "    acc_list.append(acc)"
      ],
      "execution_count": 4,
      "outputs": []
    },
    {
      "cell_type": "code",
      "metadata": {
        "id": "PV1HXW-IkY1X"
      },
      "source": [
        "# 사용자로부터 필요한 정보를 입력 받아서 돈을 입금함\n",
        "def deposit_account():\n",
        "  s = input('계좌번호 금액> ').split()\n",
        "  ano, amount = s[0], int(s[1])\n",
        "  for acc in acc_list:\n",
        "    if acc.ano == ano:\n",
        "      acc.deposit(amount)\n",
        "      return"
      ],
      "execution_count": 7,
      "outputs": []
    },
    {
      "cell_type": "code",
      "metadata": {
        "id": "zo6KQ_M1kYpl"
      },
      "source": [
        "# 사용자로부터 필요한 정보를 입력 받아서 돈을 출금함\n",
        "def withdraw_account():\n",
        "  s = input('계좌번호 금액> ').split()\n",
        "  ano, amount = s[0], int(s[1])\n",
        "  for acc in acc_list:\n",
        "    if acc.ano == ano:\n",
        "      acc.withdraw(amount)\n",
        "      return"
      ],
      "execution_count": 6,
      "outputs": []
    },
    {
      "cell_type": "code",
      "metadata": {
        "colab": {
          "base_uri": "https://localhost:8080/"
        },
        "id": "Smu5pzMdfaKi",
        "outputId": "470111c5-696c-402c-d6b5-dc7bee95b687"
      },
      "source": [
        "while True:\n",
        "  menu = int(input('1.계좌생성, 2.계좌목록, 3.입금, 4.출금, 5.종료> '))\n",
        "  if menu ==5:\n",
        "    break\n",
        "  if menu == 1:\n",
        "    create_account()\n",
        "  elif menu == 2:\n",
        "    for account in acc_list:\n",
        "      print(account)\n",
        "  elif menu == 3:\n",
        "    deposit_account()\n",
        "  elif menu == 4:\n",
        "    withdraw_account()\n",
        "  else:\n",
        "    print('잘못된 명령어입니다')\n",
        "  print()"
      ],
      "execution_count": 13,
      "outputs": [
        {
          "output_type": "stream",
          "text": [
            "1.계좌생성, 2.계좌목록, 3.입금, 4.출금, 5.종료> 6\n",
            "잘못된 명령어입니다\n",
            "\n",
            "1.계좌생성, 2.계좌목록, 3.입금, 4.출금, 5.종료> 5\n"
          ],
          "name": "stdout"
        }
      ]
    },
    {
      "cell_type": "code",
      "metadata": {
        "id": "xSkBizB-gIto"
      },
      "source": [
        ""
      ],
      "execution_count": null,
      "outputs": []
    }
  ]
}