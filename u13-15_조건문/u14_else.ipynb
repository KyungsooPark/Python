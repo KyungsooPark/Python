{
  "nbformat": 4,
  "nbformat_minor": 0,
  "metadata": {
    "colab": {
      "name": "u14_else.ipynb",
      "provenance": [],
      "collapsed_sections": []
    },
    "kernelspec": {
      "name": "python3",
      "display_name": "Python 3"
    },
    "language_info": {
      "name": "python"
    }
  },
  "cells": [
    {
      "cell_type": "markdown",
      "metadata": {
        "id": "tYdf2yTSmRiQ"
      },
      "source": [
        "# Unit 14. else"
      ]
    },
    {
      "cell_type": "code",
      "metadata": {
        "colab": {
          "base_uri": "https://localhost:8080/"
        },
        "id": "9ZiwLXqHmOtm",
        "outputId": "29ff1992-6e1b-48d5-eef1-c716d300033e"
      },
      "source": [
        "x = 8\n",
        "if x ==10 :\n",
        "  print('It is 10')\n",
        "else:\n",
        "  print('It is not 10')"
      ],
      "execution_count": 6,
      "outputs": [
        {
          "output_type": "stream",
          "text": [
            "It is not 10\n"
          ],
          "name": "stdout"
        }
      ]
    },
    {
      "cell_type": "markdown",
      "metadata": {
        "id": "5mR8QXSvm0T9"
      },
      "source": [
        "## 3항 연산자\n",
        "- Java:a=(조건) ? 참일 때의 값 : \n",
        "거짓일 때의 값\n",
        "- Python: a = 참일 때의 값 if 조건 else 거짓일 때의 값"
      ]
    },
    {
      "cell_type": "code",
      "metadata": {
        "colab": {
          "base_uri": "https://localhost:8080/",
          "height": 35
        },
        "id": "vnTr8kJWmh-l",
        "outputId": "e58c44fd-f003-4ac5-bd0e-8d7b4843bedf"
      },
      "source": [
        "x = 1\n",
        "if x % 2 == 0:\n",
        "  y = 'even'\n",
        "else:\n",
        "  y = 'odd'\n",
        "y"
      ],
      "execution_count": 8,
      "outputs": [
        {
          "output_type": "execute_result",
          "data": {
            "application/vnd.google.colaboratory.intrinsic+json": {
              "type": "string"
            },
            "text/plain": [
              "'odd'"
            ]
          },
          "metadata": {
            "tags": []
          },
          "execution_count": 8
        }
      ]
    },
    {
      "cell_type": "code",
      "metadata": {
        "colab": {
          "base_uri": "https://localhost:8080/",
          "height": 35
        },
        "id": "fCvgY-RQnKZc",
        "outputId": "66ef60c6-7681-4440-dc94-b7fb0744d774"
      },
      "source": [
        "y = 'even' if x%2 == 0 else 'odd'\n",
        "y"
      ],
      "execution_count": 9,
      "outputs": [
        {
          "output_type": "execute_result",
          "data": {
            "application/vnd.google.colaboratory.intrinsic+json": {
              "type": "string"
            },
            "text/plain": [
              "'odd'"
            ]
          },
          "metadata": {
            "tags": []
          },
          "execution_count": 9
        }
      ]
    },
    {
      "cell_type": "code",
      "metadata": {
        "colab": {
          "base_uri": "https://localhost:8080/",
          "height": 136
        },
        "id": "Kq1NqicznZl5",
        "outputId": "0e5fadd1-049e-41aa-b945-784c044e9f1a"
      },
      "source": [
        "# 90점 이상이면 'A', 80~89 : 'B', 70~79 : 'C', 60~69 : 'D', ~59 : F\n",
        "score = int(input('정수 입력> '))\n",
        "if score >= 90:\n",
        "  grade = 'A'\n",
        "else:\n",
        "  if score >= 80:\n",
        "    grade = 'B'\n",
        "  else:\n",
        "    if score >= 70:\n",
        "      grade = 'C'\n",
        "    else:\n",
        "     if score >= 60:\n",
        "        grade = 'D'\n",
        "      else:\n",
        "          grade = 'F'\n",
        "print(grade)"
      ],
      "execution_count": 35,
      "outputs": [
        {
          "output_type": "error",
          "ename": "IndentationError",
          "evalue": "ignored",
          "traceback": [
            "\u001b[0;36m  File \u001b[0;32m\"<ipython-input-35-e90697b411d5>\"\u001b[0;36m, line \u001b[0;32m14\u001b[0m\n\u001b[0;31m    else:\u001b[0m\n\u001b[0m         ^\u001b[0m\n\u001b[0;31mIndentationError\u001b[0m\u001b[0;31m:\u001b[0m unindent does not match any outer indentation level\n"
          ]
        }
      ]
    },
    {
      "cell_type": "code",
      "metadata": {
        "colab": {
          "base_uri": "https://localhost:8080/"
        },
        "id": "AYRhXzHlrWyL",
        "outputId": "714fefc3-4284-44bb-ad5b-31164595f60d"
      },
      "source": [
        "grade = int(input('정수 입력> '))"
      ],
      "execution_count": 16,
      "outputs": [
        {
          "output_type": "stream",
          "text": [
            "정수 입력> 10\n"
          ],
          "name": "stdout"
        }
      ]
    },
    {
      "cell_type": "markdown",
      "metadata": {
        "id": "CJiHIrtYufL5"
      },
      "source": [
        "### 3항 연산자 이용한 풀이"
      ]
    },
    {
      "cell_type": "code",
      "metadata": {
        "colab": {
          "base_uri": "https://localhost:8080/",
          "height": 53
        },
        "id": "O83Ns3AJp0ub",
        "outputId": "16c1bc94-e32a-483c-a6c3-c91419f58948"
      },
      "source": [
        "score = int(input('정수 입력> '))\n",
        "grade = 'A' if score >= 90 else \\\n",
        "          'B' if score >=80 else \\\n",
        "            'C' if score >=70 else \\\n",
        "              'D' if score >=60 else 'F' \n",
        "grade"
      ],
      "execution_count": 25,
      "outputs": [
        {
          "output_type": "stream",
          "text": [
            "정수 입력> 99\n"
          ],
          "name": "stdout"
        },
        {
          "output_type": "execute_result",
          "data": {
            "application/vnd.google.colaboratory.intrinsic+json": {
              "type": "string"
            },
            "text/plain": [
              "'A'"
            ]
          },
          "metadata": {
            "tags": []
          },
          "execution_count": 25
        }
      ]
    },
    {
      "cell_type": "markdown",
      "metadata": {
        "id": "lZE7qjbgt7Kv"
      },
      "source": [
        "## 조건식에서의 논리연산자"
      ]
    },
    {
      "cell_type": "code",
      "metadata": {
        "colab": {
          "base_uri": "https://localhost:8080/"
        },
        "id": "q-aY5mDtrPJo",
        "outputId": "48f635b1-f8b7-4095-c271-98be49cdcd07"
      },
      "source": [
        "x = 5\n",
        "if x > 0 and x < 10:\n",
        "  print('10보다 작은 양의 정수입니다')"
      ],
      "execution_count": 37,
      "outputs": [
        {
          "output_type": "stream",
          "text": [
            "10보다 작은 양의 정수입니다\n"
          ],
          "name": "stdout"
        }
      ]
    },
    {
      "cell_type": "code",
      "metadata": {
        "colab": {
          "base_uri": "https://localhost:8080/"
        },
        "id": "Oy61clfVu3pz",
        "outputId": "aa443f34-0854-4b0f-8bbb-e26fcb3e8c11"
      },
      "source": [
        "if 0 < x <10:\n",
        "  print('10보다 작은 양의 정수입니다')"
      ],
      "execution_count": 36,
      "outputs": [
        {
          "output_type": "stream",
          "text": [
            "10보다 작은 양의 정수입니다\n"
          ],
          "name": "stdout"
        }
      ]
    },
    {
      "cell_type": "code",
      "metadata": {
        "id": "J7dWHAoSu_zK"
      },
      "source": [
        ""
      ],
      "execution_count": null,
      "outputs": []
    }
  ]
}