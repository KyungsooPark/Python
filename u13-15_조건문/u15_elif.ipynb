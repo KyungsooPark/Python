{
  "nbformat": 4,
  "nbformat_minor": 0,
  "metadata": {
    "colab": {
      "name": "u15_elif.ipynb",
      "provenance": [],
      "collapsed_sections": []
    },
    "kernelspec": {
      "name": "python3",
      "display_name": "Python 3"
    },
    "language_info": {
      "name": "python"
    }
  },
  "cells": [
    {
      "cell_type": "markdown",
      "metadata": {
        "id": "xxZ1TFCPn_wB"
      },
      "source": [
        "# Unit 15. elif"
      ]
    },
    {
      "cell_type": "code",
      "metadata": {
        "colab": {
          "base_uri": "https://localhost:8080/"
        },
        "id": "0ExJRu40nn4J",
        "outputId": "e0818b31-51db-4c69-b511-ddf12fbf26db"
      },
      "source": [
        "x = 15\n",
        "if x == 10:\n",
        "  print('It is 10')\n",
        "elif x == 20:\n",
        "  print('It is 20')\n",
        "else:\n",
        "  print('10, 20이 아닙니다')"
      ],
      "execution_count": 2,
      "outputs": [
        {
          "output_type": "stream",
          "text": [
            "10, 20이 아닙니다\n"
          ],
          "name": "stdout"
        }
      ]
    },
    {
      "cell_type": "code",
      "metadata": {
        "colab": {
          "base_uri": "https://localhost:8080/"
        },
        "id": "G_dFvNOoorkQ",
        "outputId": "71fd8c51-25d2-4cb8-e530-447dea56b694"
      },
      "source": [
        "# 숫자 - 입력, 3의 배수면 fizz, 5의 배수면 buzz, 15의 배수면 fizzbuzz\n",
        "x = int(input())\n",
        "if x % 15 == 0:\n",
        "  print('fizzbuzz')\n",
        "if x % 5 == 0:\n",
        "  print('buzz')\n",
        "if x % 3 == 0:\n",
        "  print('fizz')"
      ],
      "execution_count": 5,
      "outputs": [
        {
          "output_type": "stream",
          "text": [
            "30\n",
            "fizzbuzz\n",
            "buzz\n",
            "fizz\n"
          ],
          "name": "stdout"
        }
      ]
    },
    {
      "cell_type": "code",
      "metadata": {
        "colab": {
          "base_uri": "https://localhost:8080/"
        },
        "id": "HboxGYXcqIgT",
        "outputId": "c9a1b832-3ffb-482b-a07e-a353fff914f7"
      },
      "source": [
        "# 숫자 - 입력, 3의 배수면 fizz, 5의 배수면 buzz, 15의 배수면 fizzbuzz\n",
        "# 큰 수부터 처리\n",
        "number = int(input())\n",
        "if number % 15 == 0:\n",
        "  print('fizzbuzz')\n",
        "elif number % 5 == 0:\n",
        "  print('buzz')\n",
        "elif number % 3 == 0:\n",
        "  print('fizz')\n",
        "else:\n",
        "  print(number)"
      ],
      "execution_count": 13,
      "outputs": [
        {
          "output_type": "stream",
          "text": [
            "30\n",
            "fizzbuzz\n"
          ],
          "name": "stdout"
        }
      ]
    },
    {
      "cell_type": "code",
      "metadata": {
        "colab": {
          "base_uri": "https://localhost:8080/"
        },
        "id": "zJDXcczSrCZg",
        "outputId": "54d8382d-582e-4dd6-9e60-79c8c34d185e"
      },
      "source": [
        "'fizz' * False, 'buzz' *True"
      ],
      "execution_count": 9,
      "outputs": [
        {
          "output_type": "execute_result",
          "data": {
            "text/plain": [
              "('', 'buzz')"
            ]
          },
          "metadata": {
            "tags": []
          },
          "execution_count": 9
        }
      ]
    },
    {
      "cell_type": "code",
      "metadata": {
        "colab": {
          "base_uri": "https://localhost:8080/"
        },
        "id": "i5sv1HcDp7qa",
        "outputId": "bdd3f999-2e66-44ec-eb80-561119483a15"
      },
      "source": [
        "print('fizz'*(number%3==0) + 'buzz'*(number%5==0) or number)"
      ],
      "execution_count": 11,
      "outputs": [
        {
          "output_type": "stream",
          "text": [
            "buzz\n"
          ],
          "name": "stdout"
        }
      ]
    },
    {
      "cell_type": "code",
      "metadata": {
        "id": "9oytYWwsq8TN"
      },
      "source": [
        ""
      ],
      "execution_count": null,
      "outputs": []
    }
  ]
}