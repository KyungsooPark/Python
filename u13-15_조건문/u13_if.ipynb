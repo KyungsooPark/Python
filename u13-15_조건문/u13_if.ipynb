{
  "nbformat": 4,
  "nbformat_minor": 0,
  "metadata": {
    "colab": {
      "name": "u13_if.ipynb",
      "provenance": [],
      "collapsed_sections": []
    },
    "kernelspec": {
      "name": "python3",
      "display_name": "Python 3"
    },
    "language_info": {
      "name": "python"
    }
  },
  "cells": [
    {
      "cell_type": "markdown",
      "metadata": {
        "id": "wU99QLNBg2MS"
      },
      "source": [
        "# Unit 13. if 조건문"
      ]
    },
    {
      "cell_type": "code",
      "metadata": {
        "colab": {
          "base_uri": "https://localhost:8080/"
        },
        "id": "4bXGUz9UeJ8C",
        "outputId": "31b78fe1-6f37-4a28-871e-74656a9cba02"
      },
      "source": [
        "# 'mana'항목이 존재하면 기존 값 + 100, 없으면 값이 +50이 되게 만드시오\n",
        "d = {'mana': 120}\n",
        "e = {}\n",
        "\n",
        "for item in [d, e]:\n",
        "    if 'mana' in item:\n",
        "        item['mana'] = item['mana'] + 100\n",
        "    else:\n",
        "        item['mana'] = 50\n",
        "\n",
        "d, e"
      ],
      "execution_count": 4,
      "outputs": [
        {
          "output_type": "execute_result",
          "data": {
            "text/plain": [
              "({'mana': 220}, {'mana': 50})"
            ]
          },
          "metadata": {
            "tags": []
          },
          "execution_count": 4
        }
      ]
    },
    {
      "cell_type": "markdown",
      "metadata": {
        "id": "GYDgTbuYhdhT"
      },
      "source": [
        "## 13.1 if 조건문"
      ]
    },
    {
      "cell_type": "code",
      "metadata": {
        "colab": {
          "base_uri": "https://localhost:8080/"
        },
        "id": "snArM7VWgD8D",
        "outputId": "62b86efc-f080-4281-aac5-501a94ab0a09"
      },
      "source": [
        "x = 10\n",
        "if x == 10:\n",
        "  print('It is 10.')"
      ],
      "execution_count": 7,
      "outputs": [
        {
          "output_type": "stream",
          "text": [
            "It is 10.\n"
          ],
          "name": "stdout"
        }
      ]
    },
    {
      "cell_type": "code",
      "metadata": {
        "colab": {
          "base_uri": "https://localhost:8080/",
          "height": 136
        },
        "id": "RasgfwOQhyIR",
        "outputId": "2ce6f277-3b3e-4401-b0eb-6b7c0bdb207b"
      },
      "source": [
        "if x=10:\n",
        "   print('It is 10.')"
      ],
      "execution_count": 8,
      "outputs": [
        {
          "output_type": "error",
          "ename": "SyntaxError",
          "evalue": "ignored",
          "traceback": [
            "\u001b[0;36m  File \u001b[0;32m\"<ipython-input-8-62317b819caf>\"\u001b[0;36m, line \u001b[0;32m1\u001b[0m\n\u001b[0;31m    if x=10:\u001b[0m\n\u001b[0m        ^\u001b[0m\n\u001b[0;31mSyntaxError\u001b[0m\u001b[0;31m:\u001b[0m invalid syntax\n"
          ]
        }
      ]
    },
    {
      "cell_type": "code",
      "metadata": {
        "colab": {
          "base_uri": "https://localhost:8080/"
        },
        "id": "OWtMwTO9iJnw",
        "outputId": "3d800296-cb19-47e0-f038-6553ca300338"
      },
      "source": [
        "x=9\n",
        "if x:                      # x가 0이 아니면 참\n",
        "   print('It is 10.')"
      ],
      "execution_count": 12,
      "outputs": [
        {
          "output_type": "stream",
          "text": [
            "It is 10.\n"
          ],
          "name": "stdout"
        }
      ]
    },
    {
      "cell_type": "markdown",
      "metadata": {
        "id": "MoY8M2b8iyqi"
      },
      "source": [
        "## 13.2 들여쓰기"
      ]
    },
    {
      "cell_type": "code",
      "metadata": {
        "colab": {
          "base_uri": "https://localhost:8080/"
        },
        "id": "AMOg8GOBiZC4",
        "outputId": "8f22613d-8361-4e51-db65-6fab81c31f81"
      },
      "source": [
        "x = 9\n",
        "\n",
        "if x == 10:\n",
        "  print('x값은')\n",
        "  print('10입니다')\n",
        "print('언제나 출력됩니다.')"
      ],
      "execution_count": 16,
      "outputs": [
        {
          "output_type": "stream",
          "text": [
            "언제나 출력됩니다.\n"
          ],
          "name": "stdout"
        }
      ]
    },
    {
      "cell_type": "markdown",
      "metadata": {
        "id": "eAC4HCVXkCB1"
      },
      "source": [
        "## 13.3 중첩 if 조건문"
      ]
    },
    {
      "cell_type": "code",
      "metadata": {
        "colab": {
          "base_uri": "https://localhost:8080/"
        },
        "id": "LlpAlnQkjOET",
        "outputId": "7bb8b1d7-773e-4ce3-f2af-2ebb8ef9d94f"
      },
      "source": [
        "x = 15\n",
        "if x > 10:\n",
        "  print('10보다 큰 수입니다')\n",
        "  if x == 15:\n",
        "    print('15 입니다')\n",
        "    if x == 20:\n",
        "      print('20 입니다')\n"
      ],
      "execution_count": 17,
      "outputs": [
        {
          "output_type": "stream",
          "text": [
            "10보다 큰 수입니다\n",
            "15 입니다\n"
          ],
          "name": "stdout"
        }
      ]
    },
    {
      "cell_type": "code",
      "metadata": {
        "colab": {
          "base_uri": "https://localhost:8080/"
        },
        "id": "UeLanqgtkqx9",
        "outputId": "b72d2aa8-0cb6-4635-e674-b21dc9fcf341"
      },
      "source": [
        "x = int(input('정수를 입력하세요> '))\n",
        "if x >10:\n",
        "  print('10보다 큰 수입니다')\n",
        "  if x == 15:\n",
        "    print('15 입니다')\n",
        "    if x == 20:\n",
        "      print('20 입니다')"
      ],
      "execution_count": 19,
      "outputs": [
        {
          "output_type": "stream",
          "text": [
            "정수를 입력하세요> 16\n",
            "10보다 큰 수입니다\n"
          ],
          "name": "stdout"
        }
      ]
    },
    {
      "cell_type": "code",
      "metadata": {
        "id": "l1EnSDSXlNC2"
      },
      "source": [
        ""
      ],
      "execution_count": null,
      "outputs": []
    }
  ]
}