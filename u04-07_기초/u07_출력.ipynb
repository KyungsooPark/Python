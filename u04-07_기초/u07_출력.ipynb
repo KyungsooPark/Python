{
  "nbformat": 4,
  "nbformat_minor": 0,
  "metadata": {
    "colab": {
      "name": "u07_출력.ipynb",
      "provenance": [],
      "collapsed_sections": []
    },
    "kernelspec": {
      "name": "python3",
      "display_name": "Python 3"
    },
    "language_info": {
      "name": "python"
    }
  },
  "cells": [
    {
      "cell_type": "markdown",
      "metadata": {
        "id": "Tq9xOC-QZyWt"
      },
      "source": [
        "#Unit 7. 출력"
      ]
    },
    {
      "cell_type": "markdown",
      "metadata": {
        "id": "JDs_DiTHbOj0"
      },
      "source": [
        "##7.1 여러개 값을 출력"
      ]
    },
    {
      "cell_type": "code",
      "metadata": {
        "colab": {
          "base_uri": "https://localhost:8080/"
        },
        "id": "rf4iOGbaZmeM",
        "outputId": "e683e1f8-6e5c-4eb9-9e10-65105b7c0619"
      },
      "source": [
        "a, b = map(int, input('정수 두개 입력> ').split())\n",
        "a\n",
        "b"
      ],
      "execution_count": 1,
      "outputs": [
        {
          "output_type": "stream",
          "text": [
            "정수 두개 입력> 10 20\n"
          ],
          "name": "stdout"
        },
        {
          "output_type": "execute_result",
          "data": {
            "text/plain": [
              "20"
            ]
          },
          "metadata": {
            "tags": []
          },
          "execution_count": 1
        }
      ]
    },
    {
      "cell_type": "code",
      "metadata": {
        "colab": {
          "base_uri": "https://localhost:8080/"
        },
        "id": "6bP8Q5tJaGPu",
        "outputId": "48035ed2-9937-4f81-89ac-bfc588d9cd1d"
      },
      "source": [
        "a, b = map(int, input('정수 두개 입력> ').split())\n",
        "print(a)\n",
        "print(b)"
      ],
      "execution_count": 2,
      "outputs": [
        {
          "output_type": "stream",
          "text": [
            "정수 두개 입력> 10 20\n",
            "10\n",
            "20\n"
          ],
          "name": "stdout"
        }
      ]
    },
    {
      "cell_type": "code",
      "metadata": {
        "colab": {
          "base_uri": "https://localhost:8080/"
        },
        "id": "OSXr7pg6aV67",
        "outputId": "7b748873-9d77-471e-d6d0-143a2ff3c9d0"
      },
      "source": [
        "print(a, b)"
      ],
      "execution_count": 3,
      "outputs": [
        {
          "output_type": "stream",
          "text": [
            "10 20\n"
          ],
          "name": "stdout"
        }
      ]
    },
    {
      "cell_type": "code",
      "metadata": {
        "colab": {
          "base_uri": "https://localhost:8080/"
        },
        "id": "hiY0pduratp2",
        "outputId": "2e72afa2-ed53-4961-8902-046dbf5899d2"
      },
      "source": [
        "print(a, b, sep=',')"
      ],
      "execution_count": 4,
      "outputs": [
        {
          "output_type": "stream",
          "text": [
            "10,20\n"
          ],
          "name": "stdout"
        }
      ]
    },
    {
      "cell_type": "markdown",
      "metadata": {
        "id": "fJgnS_yhbIpF"
      },
      "source": [
        "##7.2 줄바꿈 활용"
      ]
    },
    {
      "cell_type": "code",
      "metadata": {
        "colab": {
          "base_uri": "https://localhost:8080/"
        },
        "id": "W43zSs3Fa3Mw",
        "outputId": "570a768c-5e89-4daa-f80b-e7f0538cca22"
      },
      "source": [
        "print(a, b, sep='\\n')"
      ],
      "execution_count": 5,
      "outputs": [
        {
          "output_type": "stream",
          "text": [
            "10\n",
            "20\n"
          ],
          "name": "stdout"
        }
      ]
    },
    {
      "cell_type": "code",
      "metadata": {
        "colab": {
          "base_uri": "https://localhost:8080/"
        },
        "id": "OS5SnLyHbkKR",
        "outputId": "99fad9f3-cdcc-434e-bc7a-376b9e273820"
      },
      "source": [
        "print(a, b, sep='/\\\\')"
      ],
      "execution_count": 9,
      "outputs": [
        {
          "output_type": "stream",
          "text": [
            "10/\\20\n"
          ],
          "name": "stdout"
        }
      ]
    },
    {
      "cell_type": "code",
      "metadata": {
        "colab": {
          "base_uri": "https://localhost:8080/"
        },
        "id": "S6I0hXavbohz",
        "outputId": "e2be6773-2379-4edc-e6fd-63de369b3ac7"
      },
      "source": [
        "print(a)\n",
        "print(b)"
      ],
      "execution_count": 10,
      "outputs": [
        {
          "output_type": "stream",
          "text": [
            "10\n",
            "20\n"
          ],
          "name": "stdout"
        }
      ]
    },
    {
      "cell_type": "code",
      "metadata": {
        "colab": {
          "base_uri": "https://localhost:8080/"
        },
        "id": "pIvufvV3cbVB",
        "outputId": "fba8ea38-7d27-48b3-f4ad-3367ccd121d9"
      },
      "source": [
        "print(a, end=' ')\n",
        "print(b)"
      ],
      "execution_count": 11,
      "outputs": [
        {
          "output_type": "stream",
          "text": [
            "10 20\n"
          ],
          "name": "stdout"
        }
      ]
    },
    {
      "cell_type": "code",
      "metadata": {
        "colab": {
          "base_uri": "https://localhost:8080/"
        },
        "id": "l4b9VWfVcjXQ",
        "outputId": "88eb362a-9da1-48d8-a883-a02a7c45b92e"
      },
      "source": [
        "for i in range(5):\n",
        "  print(i, end = ' ')"
      ],
      "execution_count": 12,
      "outputs": [
        {
          "output_type": "stream",
          "text": [
            "0 1 2 3 4 "
          ],
          "name": "stdout"
        }
      ]
    },
    {
      "cell_type": "code",
      "metadata": {
        "id": "VRuaGz3Uc6eH"
      },
      "source": [
        ""
      ],
      "execution_count": null,
      "outputs": []
    }
  ]
}