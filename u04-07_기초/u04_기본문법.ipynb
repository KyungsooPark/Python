{
  "nbformat": 4,
  "nbformat_minor": 0,
  "metadata": {
    "colab": {
      "name": "u04_기본문법.ipynb",
      "provenance": [],
      "toc_visible": true
    },
    "kernelspec": {
      "name": "python3",
      "display_name": "Python 3"
    },
    "language_info": {
      "name": "python"
    }
  },
  "cells": [
    {
      "cell_type": "markdown",
      "metadata": {
        "id": "7wLJKk8Wa6Iz"
      },
      "source": [
        "#Unit 4. 기본 문법 알아보기\n",
        "\n",
        "##4.1 세미콜론\n",
        "\n",
        "\n",
        "\n",
        "\n",
        "\n",
        "\n"
      ]
    },
    {
      "cell_type": "code",
      "metadata": {
        "colab": {
          "base_uri": "https://localhost:8080/"
        },
        "id": "wZlp-_0Ma0fz",
        "outputId": "0f23f145-16ea-47a6-ffec-3578d5e46585"
      },
      "source": [
        "print('Hello, world!')"
      ],
      "execution_count": 2,
      "outputs": [
        {
          "output_type": "stream",
          "text": [
            "Hello, world!\n"
          ],
          "name": "stdout"
        }
      ]
    },
    {
      "cell_type": "code",
      "metadata": {
        "colab": {
          "base_uri": "https://localhost:8080/"
        },
        "id": "1kwGPeKZbZTB",
        "outputId": "e194316b-982a-4726-d9c2-36c0a090199c"
      },
      "source": [
        "print('Hello, world!'); print('1234')"
      ],
      "execution_count": 4,
      "outputs": [
        {
          "output_type": "stream",
          "text": [
            "Hello, world!\n",
            "1234\n"
          ],
          "name": "stdout"
        }
      ]
    },
    {
      "cell_type": "markdown",
      "metadata": {
        "id": "PIQzp4jHbwf0"
      },
      "source": [
        "## 4.2 주석"
      ]
    },
    {
      "cell_type": "markdown",
      "metadata": {
        "id": "xIMtU6eab7Q2"
      },
      "source": [
        "### 4.2.1 한 줄 주석"
      ]
    },
    {
      "cell_type": "code",
      "metadata": {
        "colab": {
          "base_uri": "https://localhost:8080/"
        },
        "id": "A9LQ3rLObhAD",
        "outputId": "6bcafa96-9a39-4572-fe37-1a74490e8675"
      },
      "source": [
        "# Hello world! 출력\n",
        "print('Hello, world!')"
      ],
      "execution_count": 6,
      "outputs": [
        {
          "output_type": "stream",
          "text": [
            "Hello, world!\n"
          ],
          "name": "stdout"
        }
      ]
    },
    {
      "cell_type": "code",
      "metadata": {
        "colab": {
          "base_uri": "https://localhost:8080/"
        },
        "id": "5cMdNr89cWwV",
        "outputId": "c2f5bf18-4413-43f5-ac33-7409f90b4d21"
      },
      "source": [
        "print('Hello world!') # comment"
      ],
      "execution_count": 7,
      "outputs": [
        {
          "output_type": "stream",
          "text": [
            "Hello world!\n"
          ],
          "name": "stdout"
        }
      ]
    },
    {
      "cell_type": "markdown",
      "metadata": {
        "id": "LixnTLj9eqdC"
      },
      "source": [
        "### 4.2.2 블록주석"
      ]
    },
    {
      "cell_type": "code",
      "metadata": {
        "id": "OJihK62cciIY"
      },
      "source": [
        "# 더하기\n",
        "# a = 1 + 2\n",
        "# print('Hello world!)"
      ],
      "execution_count": 8,
      "outputs": []
    },
    {
      "cell_type": "code",
      "metadata": {
        "colab": {
          "base_uri": "https://localhost:8080/",
          "height": 36
        },
        "id": "Hj_hiBPdfA3d",
        "outputId": "958cfc12-1c9b-4a4a-9501-d28c3e58cb15"
      },
      "source": [
        "# 더하기\n",
        "''' a = 1 + 2\n",
        "print('Hello world!)'''"
      ],
      "execution_count": 10,
      "outputs": [
        {
          "output_type": "execute_result",
          "data": {
            "application/vnd.google.colaboratory.intrinsic+json": {
              "type": "string"
            },
            "text/plain": [
              "\" a = 1 + 2\\nprint('Hello world!)\""
            ]
          },
          "metadata": {
            "tags": []
          },
          "execution_count": 10
        }
      ]
    },
    {
      "cell_type": "code",
      "metadata": {
        "colab": {
          "base_uri": "https://localhost:8080/",
          "height": 36
        },
        "id": "xahm6JjQfHsj",
        "outputId": "76cf32d3-5752-46dc-9f91-0f1cf89b972c"
      },
      "source": [
        "\"\"\"\n",
        "이 안에 포함된 내용이 블록 주석\n",
        "\"\"\""
      ],
      "execution_count": 11,
      "outputs": [
        {
          "output_type": "execute_result",
          "data": {
            "application/vnd.google.colaboratory.intrinsic+json": {
              "type": "string"
            },
            "text/plain": [
              "'\\n이 안에 포함된 내용이 블록 주석\\n'"
            ]
          },
          "metadata": {
            "tags": []
          },
          "execution_count": 11
        }
      ]
    },
    {
      "cell_type": "markdown",
      "metadata": {
        "id": "9-QSKHtziYMK"
      },
      "source": [
        "##4.3 들여쓰기(Indentation)"
      ]
    },
    {
      "cell_type": "code",
      "metadata": {
        "id": "8Ef-SZpefVCG"
      },
      "source": [
        "\"\"\"C 프로그래밍 예\n",
        "sum = 0;\n",
        "for (i=1; i<=10; i++) {\n",
        "  sum +=i;\n",
        "}\n",
        "printf(sum);\n",
        "\"\"\""
      ],
      "execution_count": null,
      "outputs": []
    },
    {
      "cell_type": "code",
      "metadata": {
        "colab": {
          "base_uri": "https://localhost:8080/"
        },
        "id": "JlYPpQsmjIKQ",
        "outputId": "d1e6a8cf-ee8b-4dfe-cdb6-78f67c8bc889"
      },
      "source": [
        "# 파이썬 예\n",
        "sum = 0\n",
        "for i in range(1,11):\n",
        "  sum += i\n",
        "print(sum)"
      ],
      "execution_count": 12,
      "outputs": [
        {
          "output_type": "stream",
          "text": [
            "55\n"
          ],
          "name": "stdout"
        }
      ]
    },
    {
      "cell_type": "code",
      "metadata": {
        "colab": {
          "base_uri": "https://localhost:8080/"
        },
        "id": "Fie9fUpwjqPx",
        "outputId": "802ae407-9f5b-435c-ad33-56936e93b047"
      },
      "source": [
        "# 기본 공백: 공백 4개, 탭/백탭(Shift+TAB)\n",
        "sum = 0\n",
        "for i in range(1,11):\n",
        "  sum += i  \n",
        "  if sum > 50:\n",
        "    print(i)\n",
        "print(sum)"
      ],
      "execution_count": 15,
      "outputs": [
        {
          "output_type": "stream",
          "text": [
            "10\n",
            "55\n"
          ],
          "name": "stdout"
        }
      ]
    },
    {
      "cell_type": "code",
      "metadata": {
        "id": "6UiueNgAkWd8"
      },
      "source": [
        ""
      ],
      "execution_count": null,
      "outputs": []
    }
  ]
}