{
  "nbformat": 4,
  "nbformat_minor": 0,
  "metadata": {
    "colab": {
      "name": "u29_함수.ipynb",
      "provenance": [],
      "collapsed_sections": []
    },
    "kernelspec": {
      "name": "python3",
      "display_name": "Python 3"
    },
    "language_info": {
      "name": "python"
    }
  },
  "cells": [
    {
      "cell_type": "markdown",
      "metadata": {
        "id": "rGkEZywcOYR8"
      },
      "source": [
        "# Unit 29. 함수"
      ]
    },
    {
      "cell_type": "markdown",
      "metadata": {
        "id": "D-q4a1E1OoVH"
      },
      "source": [
        "## 29.1 출력 함수 만들기"
      ]
    },
    {
      "cell_type": "code",
      "metadata": {
        "id": "lgVLNLlKKsi6"
      },
      "source": [
        "def hello():\n",
        "  print('Hello, world!')"
      ],
      "execution_count": 1,
      "outputs": []
    },
    {
      "cell_type": "code",
      "metadata": {
        "colab": {
          "base_uri": "https://localhost:8080/"
        },
        "id": "8LZyF005O7tJ",
        "outputId": "fe5c78ec-6213-46d4-d8e6-3a90f83053cc"
      },
      "source": [
        "hello()"
      ],
      "execution_count": 2,
      "outputs": [
        {
          "output_type": "stream",
          "text": [
            "Hello, world!\n"
          ],
          "name": "stdout"
        }
      ]
    },
    {
      "cell_type": "markdown",
      "metadata": {
        "id": "STCrdeyLPx1F"
      },
      "source": [
        "## 29.2 덧셈 함수"
      ]
    },
    {
      "cell_type": "code",
      "metadata": {
        "id": "obHm_knPO8yh"
      },
      "source": [
        "# 매개변수, parameter, argument\n",
        "def add(a, b):\n",
        "  print(a + b)"
      ],
      "execution_count": 5,
      "outputs": []
    },
    {
      "cell_type": "code",
      "metadata": {
        "colab": {
          "base_uri": "https://localhost:8080/"
        },
        "id": "ls5fCSxXQDcA",
        "outputId": "80cf85a0-b070-40a6-99af-68173e0f9ec6"
      },
      "source": [
        "add(4,5)"
      ],
      "execution_count": 6,
      "outputs": [
        {
          "output_type": "stream",
          "text": [
            "9\n"
          ],
          "name": "stdout"
        }
      ]
    },
    {
      "cell_type": "code",
      "metadata": {
        "id": "ayuOlfsLQIib"
      },
      "source": [
        "# Docstrings\n",
        "def add(a,b):\n",
        "  '''\n",
        "  이 함수는 a와 b를 더한 뒤 결과를 반환하는 함수입니다.\n",
        "  '''\n",
        "  print(a+b)"
      ],
      "execution_count": 7,
      "outputs": []
    },
    {
      "cell_type": "code",
      "metadata": {
        "id": "7JWttNO3RGa3"
      },
      "source": [
        "# 도움말 호출\n",
        "add?"
      ],
      "execution_count": 8,
      "outputs": []
    },
    {
      "cell_type": "markdown",
      "metadata": {
        "id": "p1GztjHYRq6n"
      },
      "source": [
        "## 29.3 결과값 반환"
      ]
    },
    {
      "cell_type": "code",
      "metadata": {
        "id": "IIdzxGvARJ9n"
      },
      "source": [
        "def add(a,b):\n",
        "  return a+b"
      ],
      "execution_count": 9,
      "outputs": []
    },
    {
      "cell_type": "code",
      "metadata": {
        "colab": {
          "base_uri": "https://localhost:8080/"
        },
        "id": "Q6AkfzLnR2jA",
        "outputId": "6dc4c83d-f0d0-489c-992f-41faa5279e85"
      },
      "source": [
        "add(4,5), add(10,20)"
      ],
      "execution_count": 11,
      "outputs": [
        {
          "output_type": "execute_result",
          "data": {
            "text/plain": [
              "(9, 30)"
            ]
          },
          "metadata": {
            "tags": []
          },
          "execution_count": 11
        }
      ]
    },
    {
      "cell_type": "code",
      "metadata": {
        "colab": {
          "base_uri": "https://localhost:8080/"
        },
        "id": "0KLbtvGtR7xk",
        "outputId": "375a23c7-ef6b-48d4-c8f6-79504c46b6d5"
      },
      "source": [
        "x = add(23,45)\n",
        "x"
      ],
      "execution_count": 12,
      "outputs": [
        {
          "output_type": "execute_result",
          "data": {
            "text/plain": [
              "68"
            ]
          },
          "metadata": {
            "tags": []
          },
          "execution_count": 12
        }
      ]
    },
    {
      "cell_type": "code",
      "metadata": {
        "id": "90a9aWOCSHg1"
      },
      "source": [
        "def is_ten(x):\n",
        "  return x==10"
      ],
      "execution_count": 13,
      "outputs": []
    },
    {
      "cell_type": "code",
      "metadata": {
        "colab": {
          "base_uri": "https://localhost:8080/"
        },
        "id": "U8-7ij8wSOnh",
        "outputId": "03f3a664-9465-4872-da0f-27700aae1815"
      },
      "source": [
        "is_ten(101//10)"
      ],
      "execution_count": 14,
      "outputs": [
        {
          "output_type": "execute_result",
          "data": {
            "text/plain": [
              "True"
            ]
          },
          "metadata": {
            "tags": []
          },
          "execution_count": 14
        }
      ]
    },
    {
      "cell_type": "code",
      "metadata": {
        "id": "5Ugetm_cSS5-"
      },
      "source": [
        "def not_ten(x):\n",
        "  if x==10:\n",
        "    return\n",
        "  else:\n",
        "    print('It is not 10')"
      ],
      "execution_count": 18,
      "outputs": []
    },
    {
      "cell_type": "code",
      "metadata": {
        "id": "UdInnHi6TLeW"
      },
      "source": [
        "# else를 빼도 위 코드와 같음\n",
        "def not_ten(x):\n",
        "  if x==10:\n",
        "    return\n",
        "  print('It is not 10')"
      ],
      "execution_count": null,
      "outputs": []
    },
    {
      "cell_type": "code",
      "metadata": {
        "colab": {
          "base_uri": "https://localhost:8080/"
        },
        "id": "gyCWbVTtSnhb",
        "outputId": "d9a4f435-5e88-4d66-b48a-0518de55d679"
      },
      "source": [
        "not_ten(5)"
      ],
      "execution_count": 19,
      "outputs": [
        {
          "output_type": "stream",
          "text": [
            "It is not 10\n"
          ],
          "name": "stdout"
        }
      ]
    },
    {
      "cell_type": "code",
      "metadata": {
        "id": "vUKMhYzmSq2H"
      },
      "source": [
        "not_ten(101//10)"
      ],
      "execution_count": 20,
      "outputs": []
    },
    {
      "cell_type": "markdown",
      "metadata": {
        "id": "WJrc54PTTbZZ"
      },
      "source": [
        "## 29.4 여러개의 결과값 반환"
      ]
    },
    {
      "cell_type": "code",
      "metadata": {
        "id": "GKFaXAQaS7h5"
      },
      "source": [
        "def add_sub(a,b):\n",
        "  return a+b, a-b"
      ],
      "execution_count": 21,
      "outputs": []
    },
    {
      "cell_type": "code",
      "metadata": {
        "id": "fLf6xQj0Tr4r"
      },
      "source": [
        "x, y = add_sub(15,7)"
      ],
      "execution_count": 22,
      "outputs": []
    },
    {
      "cell_type": "code",
      "metadata": {
        "colab": {
          "base_uri": "https://localhost:8080/"
        },
        "id": "brHKVU-YTzKa",
        "outputId": "34b5240f-7069-4908-be9c-8f48b97cb375"
      },
      "source": [
        "x, y"
      ],
      "execution_count": 23,
      "outputs": [
        {
          "output_type": "execute_result",
          "data": {
            "text/plain": [
              "(22, 8)"
            ]
          },
          "metadata": {
            "tags": []
          },
          "execution_count": 23
        }
      ]
    },
    {
      "cell_type": "code",
      "metadata": {
        "colab": {
          "base_uri": "https://localhost:8080/"
        },
        "id": "WZJbr0drT1zG",
        "outputId": "b96c46c1-8ff6-4db4-e947-f30654dc4e90"
      },
      "source": [
        "add_sub(20,7)"
      ],
      "execution_count": 24,
      "outputs": [
        {
          "output_type": "execute_result",
          "data": {
            "text/plain": [
              "(27, 13)"
            ]
          },
          "metadata": {
            "tags": []
          },
          "execution_count": 24
        }
      ]
    },
    {
      "cell_type": "markdown",
      "metadata": {
        "id": "5upNScnyUVBa"
      },
      "source": [
        "## 29.5 함수의 호출 과정"
      ]
    },
    {
      "cell_type": "code",
      "metadata": {
        "id": "Eklmes96UHxI"
      },
      "source": [
        "# stack을 이용"
      ],
      "execution_count": null,
      "outputs": []
    },
    {
      "cell_type": "markdown",
      "metadata": {
        "id": "V-RWwZl3VNS3"
      },
      "source": [
        "## 연습 문제\n",
        "- 3자리수 정수 두개를 곱해서 나온 결과가 팔린드롬(palindrome이 되도록 할 때, 가장 큰 숫자는?"
      ]
    },
    {
      "cell_type": "code",
      "metadata": {
        "id": "BbmaLkvEbzpB"
      },
      "source": [
        "def is_palindrome(x):\n",
        "  s = str(x)\n",
        "  return s == s[::-1]"
      ],
      "execution_count": 28,
      "outputs": []
    },
    {
      "cell_type": "code",
      "metadata": {
        "colab": {
          "base_uri": "https://localhost:8080/"
        },
        "id": "qKlXikbudH1D",
        "outputId": "288fee60-a372-47a3-eeb3-945d74c3bfc1"
      },
      "source": [
        "is_palindrome(12345), is_palindrome(906609)"
      ],
      "execution_count": 27,
      "outputs": [
        {
          "output_type": "execute_result",
          "data": {
            "text/plain": [
              "(False, True)"
            ]
          },
          "metadata": {
            "tags": []
          },
          "execution_count": 27
        }
      ]
    },
    {
      "cell_type": "code",
      "metadata": {
        "colab": {
          "base_uri": "https://localhost:8080/"
        },
        "id": "odYlDSKaVPmH",
        "outputId": "c11064b4-417e-40ec-9682-47e917cf22a9"
      },
      "source": [
        "# 팔린드롬 : ex) 1 2 3 2 1\n",
        "# 3자리 정수 : 100~999\n",
        "# i*k값이 팔린드롬인지 확인\n",
        "# 팔린드롬이면 max_pal과 비교\n",
        "max_pal = 0\n",
        "for i in range(100,1000):\n",
        "  for k in range(i,1000):\n",
        "    if is_palindrome(i*k):\n",
        "      if i*k > max_pal:\n",
        "        max_pal = i*k\n",
        "        m = i\n",
        "        n = k\n",
        "\n",
        "print(f'{m} x {n} = {max_pal}')\n"
      ],
      "execution_count": 29,
      "outputs": [
        {
          "output_type": "stream",
          "text": [
            "913 x 993 = 906609\n"
          ],
          "name": "stdout"
        }
      ]
    },
    {
      "cell_type": "code",
      "metadata": {
        "id": "7T7oOmvAeXDe"
      },
      "source": [
        ""
      ],
      "execution_count": null,
      "outputs": []
    }
  ]
}