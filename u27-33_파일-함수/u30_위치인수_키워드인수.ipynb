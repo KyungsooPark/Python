{
  "nbformat": 4,
  "nbformat_minor": 0,
  "metadata": {
    "colab": {
      "name": "u30_위치인수_키워드인수.ipynb",
      "provenance": [],
      "collapsed_sections": []
    },
    "kernelspec": {
      "name": "python3",
      "display_name": "Python 3"
    },
    "language_info": {
      "name": "python"
    }
  },
  "cells": [
    {
      "cell_type": "markdown",
      "metadata": {
        "id": "0QoBikUlfvXE"
      },
      "source": [
        "# Unit30. 위치 인수와 키워드 인수"
      ]
    },
    {
      "cell_type": "markdown",
      "metadata": {
        "id": "nCxcMHtFf6uN"
      },
      "source": [
        "## 30.1 위치 인수"
      ]
    },
    {
      "cell_type": "code",
      "metadata": {
        "colab": {
          "base_uri": "https://localhost:8080/"
        },
        "id": "dASjdJ3ffodZ",
        "outputId": "66a07e48-3008-46c9-a38b-212a3dfbc115"
      },
      "source": [
        "print(10,20,30, sep=',') #위치인수 : 10 20 30, 키워드인수 : sep=','\n"
      ],
      "execution_count": 2,
      "outputs": [
        {
          "output_type": "stream",
          "text": [
            "10,20,30\n"
          ],
          "name": "stdout"
        }
      ]
    },
    {
      "cell_type": "code",
      "metadata": {
        "colab": {
          "base_uri": "https://localhost:8080/"
        },
        "id": "3g04eFlRf5ml",
        "outputId": "a0fb91fb-5ea9-459a-fb34-926f7236d081"
      },
      "source": [
        "print(10,20,30,40,50,60,70,80,90,100) # 위치 인수 개수 무관"
      ],
      "execution_count": 3,
      "outputs": [
        {
          "output_type": "stream",
          "text": [
            "10 20 30 40 50 60 70 80 90 100\n"
          ],
          "name": "stdout"
        }
      ]
    },
    {
      "cell_type": "code",
      "metadata": {
        "id": "EWLe7bsbgqtT"
      },
      "source": [
        "def print_numbers(a,b,c):\n",
        "  print(a)\n",
        "  print(b)\n",
        "  print(c)"
      ],
      "execution_count": 4,
      "outputs": []
    },
    {
      "cell_type": "code",
      "metadata": {
        "colab": {
          "base_uri": "https://localhost:8080/"
        },
        "id": "lGKxdCxIg_D_",
        "outputId": "7b32a69d-6316-4df5-e4ed-c6b636950440"
      },
      "source": [
        "print_numbers(10,20,30)"
      ],
      "execution_count": 5,
      "outputs": [
        {
          "output_type": "stream",
          "text": [
            "10\n",
            "20\n",
            "30\n"
          ],
          "name": "stdout"
        }
      ]
    },
    {
      "cell_type": "code",
      "metadata": {
        "colab": {
          "base_uri": "https://localhost:8080/"
        },
        "id": "rcAHvzMOhDiO",
        "outputId": "90e5724c-3bd7-4a4e-b94d-7065c5a28df3"
      },
      "source": [
        "# *x/*y - 리스트/튜플 언패킹\n",
        "x, y = [10,20,30], (40,50,60)\n",
        "print_numbers(*x)\n",
        "print_numbers(*y)"
      ],
      "execution_count": 6,
      "outputs": [
        {
          "output_type": "stream",
          "text": [
            "10\n",
            "20\n",
            "30\n",
            "40\n",
            "50\n",
            "60\n"
          ],
          "name": "stdout"
        }
      ]
    },
    {
      "cell_type": "markdown",
      "metadata": {
        "id": "AFCfEKWeh0JP"
      },
      "source": [
        "### 가변 인수 함수"
      ]
    },
    {
      "cell_type": "code",
      "metadata": {
        "id": "0wmhQO10hrdp"
      },
      "source": [
        "def print_numbers2(*args):\n",
        "  for arg in args:\n",
        "    print(arg)"
      ],
      "execution_count": 10,
      "outputs": []
    },
    {
      "cell_type": "code",
      "metadata": {
        "colab": {
          "base_uri": "https://localhost:8080/"
        },
        "id": "jNQ9q8WaiUcQ",
        "outputId": "73414c32-0bcf-4675-c7cf-07ebfaa59763"
      },
      "source": [
        "print_numbers(10,20,30,40)"
      ],
      "execution_count": 11,
      "outputs": [
        {
          "output_type": "stream",
          "text": [
            "10\n",
            "20\n",
            "30\n",
            "40\n"
          ],
          "name": "stdout"
        }
      ]
    },
    {
      "cell_type": "code",
      "metadata": {
        "colab": {
          "base_uri": "https://localhost:8080/"
        },
        "id": "J6wl73-Diay9",
        "outputId": "2171a62e-ae33-4d87-f7ad-cf8e40d0e98f"
      },
      "source": [
        "print_numbers2(10)"
      ],
      "execution_count": 12,
      "outputs": [
        {
          "output_type": "stream",
          "text": [
            "10\n"
          ],
          "name": "stdout"
        }
      ]
    },
    {
      "cell_type": "markdown",
      "metadata": {
        "id": "ayQ2vap2imIk"
      },
      "source": [
        "### 고정 인수와 가변 인수"
      ]
    },
    {
      "cell_type": "code",
      "metadata": {
        "id": "IA9xLhb5ik33"
      },
      "source": [
        "def print_numbers3(a, *args):\n",
        "  print(a)\n",
        "  print(args)"
      ],
      "execution_count": 13,
      "outputs": []
    },
    {
      "cell_type": "code",
      "metadata": {
        "colab": {
          "base_uri": "https://localhost:8080/"
        },
        "id": "38rN1BWui1BG",
        "outputId": "68496e41-c4e7-4c7f-dc4e-2ec7e4b6cddd"
      },
      "source": [
        "print_numbers3(1,10,20)"
      ],
      "execution_count": 14,
      "outputs": [
        {
          "output_type": "stream",
          "text": [
            "1\n",
            "(10, 20)\n"
          ],
          "name": "stdout"
        }
      ]
    },
    {
      "cell_type": "code",
      "metadata": {
        "colab": {
          "base_uri": "https://localhost:8080/"
        },
        "id": "vs8WXIkyi4Wa",
        "outputId": "1d7ac577-5b01-4640-a3a4-e6444cae042d"
      },
      "source": [
        "print_numbers3(*x) #고정인수 : 10, 가변인수 : 20,30"
      ],
      "execution_count": 16,
      "outputs": [
        {
          "output_type": "stream",
          "text": [
            "10\n",
            "(20, 30)\n"
          ],
          "name": "stdout"
        }
      ]
    },
    {
      "cell_type": "code",
      "metadata": {
        "id": "ndEyAP4TjEdd"
      },
      "source": [
        "def print_numbers4(*args, a):\n",
        "  print(args)\n",
        "  print(a)\n"
      ],
      "execution_count": 17,
      "outputs": []
    },
    {
      "cell_type": "code",
      "metadata": {
        "colab": {
          "base_uri": "https://localhost:8080/",
          "height": 178
        },
        "id": "nvsuFYMfjb8I",
        "outputId": "9a4b58e6-6875-4b0d-a373-4cd5715417c2"
      },
      "source": [
        "print_numbers4(*x) # 가변인수가 고정인수보다 먼저 나올 수 없다"
      ],
      "execution_count": 18,
      "outputs": [
        {
          "output_type": "error",
          "ename": "TypeError",
          "evalue": "ignored",
          "traceback": [
            "\u001b[0;31m---------------------------------------------------------------------------\u001b[0m",
            "\u001b[0;31mTypeError\u001b[0m                                 Traceback (most recent call last)",
            "\u001b[0;32m<ipython-input-18-c9aba5af1127>\u001b[0m in \u001b[0;36m<module>\u001b[0;34m()\u001b[0m\n\u001b[0;32m----> 1\u001b[0;31m \u001b[0mprint_numbers4\u001b[0m\u001b[0;34m(\u001b[0m\u001b[0;34m*\u001b[0m\u001b[0mx\u001b[0m\u001b[0;34m)\u001b[0m\u001b[0;34m\u001b[0m\u001b[0;34m\u001b[0m\u001b[0m\n\u001b[0m",
            "\u001b[0;31mTypeError\u001b[0m: print_numbers4() missing 1 required keyword-only argument: 'a'"
          ]
        }
      ]
    },
    {
      "cell_type": "markdown",
      "metadata": {
        "id": "MveaSLUlmvSz"
      },
      "source": [
        "## 30.2 키워드 인수"
      ]
    },
    {
      "cell_type": "code",
      "metadata": {
        "id": "GGrNmLspjezi"
      },
      "source": [
        "def personal_info(name, age, addr):\n",
        "  print('이름:', name)\n",
        "  print('나이:', age)\n",
        "  print('주소:', addr)"
      ],
      "execution_count": 21,
      "outputs": []
    },
    {
      "cell_type": "code",
      "metadata": {
        "colab": {
          "base_uri": "https://localhost:8080/"
        },
        "id": "QP4Waj8_nIs6",
        "outputId": "6d60333c-db70-42dc-ca7a-20b679fed27e"
      },
      "source": [
        "personal_info('홍길동', 30, '서울 강남구 도곡동')"
      ],
      "execution_count": 22,
      "outputs": [
        {
          "output_type": "stream",
          "text": [
            "이름: 홍길동\n",
            "나이: 30\n",
            "주소: 서울 강남구 도곡동\n"
          ],
          "name": "stdout"
        }
      ]
    },
    {
      "cell_type": "code",
      "metadata": {
        "colab": {
          "base_uri": "https://localhost:8080/"
        },
        "id": "OZF36dyfnQm9",
        "outputId": "eb7f83d8-133e-404f-bee8-11cd2da3ffd5"
      },
      "source": [
        "personal_info(age=30, addr='서울 강남구 도곡동', name='홍길동')"
      ],
      "execution_count": 23,
      "outputs": [
        {
          "output_type": "stream",
          "text": [
            "이름: 홍길동\n",
            "나이: 30\n",
            "주소: 서울 강남구 도곡동\n"
          ],
          "name": "stdout"
        }
      ]
    },
    {
      "cell_type": "markdown",
      "metadata": {
        "id": "wkQgVQLFnv3W"
      },
      "source": [
        "## 30.3 키워드 인수와 딕셔너리 언패킹"
      ]
    },
    {
      "cell_type": "code",
      "metadata": {
        "colab": {
          "base_uri": "https://localhost:8080/"
        },
        "id": "ALFl8NTtnp0O",
        "outputId": "8e23906f-7644-4dfa-85ec-1b1b6011ecaa"
      },
      "source": [
        "x = {'name':'홍길동', 'age':30, 'addr':'서울 강남구 도곡동'}\n",
        "personal_info(*x) # * 1개만 쓰면 키값을 불러냄"
      ],
      "execution_count": 25,
      "outputs": [
        {
          "output_type": "stream",
          "text": [
            "이름: name\n",
            "나이: age\n",
            "주소: addr\n"
          ],
          "name": "stdout"
        }
      ]
    },
    {
      "cell_type": "code",
      "metadata": {
        "colab": {
          "base_uri": "https://localhost:8080/"
        },
        "id": "bsO6H2CUoE6P",
        "outputId": "8fd66da3-1bb2-48e3-fdc8-2a752206490f"
      },
      "source": [
        "x = {'name':'홍길동', 'age':30, 'addr':'서울 강남구 도곡동'}\n",
        "personal_info(**x) # ** : 딕셔너리 언패킹"
      ],
      "execution_count": 26,
      "outputs": [
        {
          "output_type": "stream",
          "text": [
            "이름: 홍길동\n",
            "나이: 30\n",
            "주소: 서울 강남구 도곡동\n"
          ],
          "name": "stdout"
        }
      ]
    },
    {
      "cell_type": "markdown",
      "metadata": {
        "id": "PG97Wa1KosGw"
      },
      "source": [
        "### 가변 키워드 인수"
      ]
    },
    {
      "cell_type": "code",
      "metadata": {
        "id": "BZzTaflIoKAw"
      },
      "source": [
        "def personal_info2(**kwargs):\n",
        "  for key, value in kwargs.items():\n",
        "    print(f'{key}: {value}')"
      ],
      "execution_count": 27,
      "outputs": []
    },
    {
      "cell_type": "code",
      "metadata": {
        "colab": {
          "base_uri": "https://localhost:8080/"
        },
        "id": "1tftqnqGpUCk",
        "outputId": "309ce3c2-e7e8-4fca-d925-337813dfa797"
      },
      "source": [
        "personal_info2(**x)"
      ],
      "execution_count": 28,
      "outputs": [
        {
          "output_type": "stream",
          "text": [
            "name: 홍길동\n",
            "age: 30\n",
            "addr: 서울 강남구 도곡동\n"
          ],
          "name": "stdout"
        }
      ]
    },
    {
      "cell_type": "code",
      "metadata": {
        "colab": {
          "base_uri": "https://localhost:8080/"
        },
        "id": "JyBlb_5OpWz8",
        "outputId": "d8f6865f-36f1-4825-a2cf-43d141be1b83"
      },
      "source": [
        "personal_info2(name='홍길동',age=30)"
      ],
      "execution_count": 29,
      "outputs": [
        {
          "output_type": "stream",
          "text": [
            "name: 홍길동\n",
            "age: 30\n"
          ],
          "name": "stdout"
        }
      ]
    },
    {
      "cell_type": "markdown",
      "metadata": {
        "id": "c0DvyTOApva3"
      },
      "source": [
        "### 고정 인수와 가변 키워드 인수"
      ]
    },
    {
      "cell_type": "code",
      "metadata": {
        "id": "eoLj8dczpfSO"
      },
      "source": [
        "def personal_info3(name, **kwargs):   # 고정인수,가변키워드인수 : 고정 인수가 먼저 와야 한다\n",
        "  print(name)\n",
        "  print(kwargs)"
      ],
      "execution_count": 30,
      "outputs": []
    },
    {
      "cell_type": "code",
      "metadata": {
        "colab": {
          "base_uri": "https://localhost:8080/"
        },
        "id": "5bp6XzG7p7lY",
        "outputId": "13068481-9df3-4969-a280-e60efc96ee96"
      },
      "source": [
        "personal_info3(**x)"
      ],
      "execution_count": 31,
      "outputs": [
        {
          "output_type": "stream",
          "text": [
            "홍길동\n",
            "{'age': 30, 'addr': '서울 강남구 도곡동'}\n"
          ],
          "name": "stdout"
        }
      ]
    },
    {
      "cell_type": "markdown",
      "metadata": {
        "id": "BqcHm9_AqmMF"
      },
      "source": [
        "### 위치 인수와 키워드 인수"
      ]
    },
    {
      "cell_type": "code",
      "metadata": {
        "id": "Xmnug0dWqBvs"
      },
      "source": [
        "def my_print(*args, **kwargs):   ## 위치인수가 먼저 온다.\n",
        "  print(*args, **kwargs)"
      ],
      "execution_count": 36,
      "outputs": []
    },
    {
      "cell_type": "code",
      "metadata": {
        "colab": {
          "base_uri": "https://localhost:8080/"
        },
        "id": "GD1zMIV3qyU0",
        "outputId": "fb4828a5-bec4-4b14-9dc6-f4d13f353b94"
      },
      "source": [
        "my_print(10,20,30, sep=', ')"
      ],
      "execution_count": 37,
      "outputs": [
        {
          "output_type": "stream",
          "text": [
            "10, 20, 30\n"
          ],
          "name": "stdout"
        }
      ]
    },
    {
      "cell_type": "markdown",
      "metadata": {
        "id": "3nW37zqmrdf7"
      },
      "source": [
        "## 매개변수에 초기값 지정"
      ]
    },
    {
      "cell_type": "code",
      "metadata": {
        "id": "LvBQ71wzq5Jq"
      },
      "source": [
        "def personal_info4(name, age, addr='비공개'):   # 초기값이 지정된 addr은 반드시 맨 뒤에 써야 한다.\n",
        "  print('이름:', name)\n",
        "  print('나이:', age)\n",
        "  print('주소:', addr)"
      ],
      "execution_count": 38,
      "outputs": []
    },
    {
      "cell_type": "code",
      "metadata": {
        "colab": {
          "base_uri": "https://localhost:8080/"
        },
        "id": "pkwlR1KzsCnn",
        "outputId": "3ac0dcab-fa8f-409c-81ce-2c1463a6e374"
      },
      "source": [
        "personal_info4('홍길동', 30)"
      ],
      "execution_count": 39,
      "outputs": [
        {
          "output_type": "stream",
          "text": [
            "이름: 홍길동\n",
            "나이: 30\n",
            "주소: 비공개\n"
          ],
          "name": "stdout"
        }
      ]
    },
    {
      "cell_type": "code",
      "metadata": {
        "colab": {
          "base_uri": "https://localhost:8080/"
        },
        "id": "M_rxQ9qDsGn4",
        "outputId": "ea5d3192-a131-4786-edfe-53303b13f4ae"
      },
      "source": [
        "personal_info4(**x)"
      ],
      "execution_count": 40,
      "outputs": [
        {
          "output_type": "stream",
          "text": [
            "이름: 홍길동\n",
            "나이: 30\n",
            "주소: 서울 강남구 도곡동\n"
          ],
          "name": "stdout"
        }
      ]
    },
    {
      "cell_type": "code",
      "metadata": {
        "id": "BORm3jNMsMLS"
      },
      "source": [
        ""
      ],
      "execution_count": null,
      "outputs": []
    }
  ]
}