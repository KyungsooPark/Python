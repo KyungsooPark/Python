{
  "nbformat": 4,
  "nbformat_minor": 0,
  "metadata": {
    "colab": {
      "name": "u33_ScopeRule.ipynb",
      "provenance": [],
      "collapsed_sections": []
    },
    "kernelspec": {
      "name": "python3",
      "display_name": "Python 3"
    },
    "language_info": {
      "name": "python"
    }
  },
  "cells": [
    {
      "cell_type": "markdown",
      "metadata": {
        "id": "5WguG5DVrmqo"
      },
      "source": [
        "Unit 33. 변수의 사용 범위(Scope Rule)"
      ]
    },
    {
      "cell_type": "code",
      "metadata": {
        "colab": {
          "base_uri": "https://localhost:8080/"
        },
        "id": "h-aPDcDYrXLk",
        "outputId": "5f53c79f-c100-44fa-abcf-a2daf1749959"
      },
      "source": [
        "x = 10                 # 전역(global) 변수\n",
        "def foo():\n",
        "  print(x)\n",
        "\n",
        "foo()\n",
        "print(x)"
      ],
      "execution_count": 1,
      "outputs": [
        {
          "output_type": "stream",
          "text": [
            "10\n",
            "10\n"
          ],
          "name": "stdout"
        }
      ]
    },
    {
      "cell_type": "code",
      "metadata": {
        "colab": {
          "base_uri": "https://localhost:8080/"
        },
        "id": "GsFvyH3QsOZu",
        "outputId": "74e4c3d9-977e-4db1-e29c-b44249f33267"
      },
      "source": [
        "x = 10                 # 전역(global) 변수\n",
        "def foo():\n",
        "  y=10\n",
        "  print(y)            # 지역(local) 변수\n",
        "\n",
        "foo()\n"
      ],
      "execution_count": 2,
      "outputs": [
        {
          "output_type": "stream",
          "text": [
            "10\n"
          ],
          "name": "stdout"
        }
      ]
    },
    {
      "cell_type": "code",
      "metadata": {
        "colab": {
          "base_uri": "https://localhost:8080/",
          "height": 178
        },
        "id": "ISwEqYtwsl34",
        "outputId": "2f30cfd2-0f6c-4c4d-c2bc-f020a5b7e8cc"
      },
      "source": [
        "print(y)     # 지역변수 y는 전역에서 사용 불가"
      ],
      "execution_count": 3,
      "outputs": [
        {
          "output_type": "error",
          "ename": "NameError",
          "evalue": "ignored",
          "traceback": [
            "\u001b[0;31m---------------------------------------------------------------------------\u001b[0m",
            "\u001b[0;31mNameError\u001b[0m                                 Traceback (most recent call last)",
            "\u001b[0;32m<ipython-input-3-d9183e048de3>\u001b[0m in \u001b[0;36m<module>\u001b[0;34m()\u001b[0m\n\u001b[0;32m----> 1\u001b[0;31m \u001b[0mprint\u001b[0m\u001b[0;34m(\u001b[0m\u001b[0my\u001b[0m\u001b[0;34m)\u001b[0m\u001b[0;34m\u001b[0m\u001b[0;34m\u001b[0m\u001b[0m\n\u001b[0m",
            "\u001b[0;31mNameError\u001b[0m: name 'y' is not defined"
          ]
        }
      ]
    },
    {
      "cell_type": "markdown",
      "metadata": {
        "id": "1VRphdzWtskl"
      },
      "source": [
        "### 함수 안에서 전역 변수 변경하기 "
      ]
    },
    {
      "cell_type": "code",
      "metadata": {
        "colab": {
          "base_uri": "https://localhost:8080/"
        },
        "id": "djCBMKKwsqQb",
        "outputId": "65e835eb-505d-46d2-ec19-627b28ce8f1d"
      },
      "source": [
        "x = 10                 # 전역(global) 변수\n",
        "def foo():\n",
        "  x = 20               # 지역(local) 변수\n",
        "  print(x)\n",
        "\n",
        "foo()\n",
        "print(x)"
      ],
      "execution_count": 6,
      "outputs": [
        {
          "output_type": "stream",
          "text": [
            "20\n",
            "10\n"
          ],
          "name": "stdout"
        }
      ]
    },
    {
      "cell_type": "code",
      "metadata": {
        "colab": {
          "base_uri": "https://localhost:8080/"
        },
        "id": "oI4pkf6guFMy",
        "outputId": "b2cabef5-8b76-46ba-da24-a3e64fb59b8e"
      },
      "source": [
        "x = 10                 # 전역(global) 변수\n",
        "def foo():\n",
        "  global x\n",
        "  x=20              # 전역 변수를 20으로 변경\n",
        "  print(x)\n",
        "\n",
        "foo()\n",
        "print(x)"
      ],
      "execution_count": 8,
      "outputs": [
        {
          "output_type": "stream",
          "text": [
            "20\n",
            "20\n"
          ],
          "name": "stdout"
        }
      ]
    },
    {
      "cell_type": "code",
      "metadata": {
        "colab": {
          "base_uri": "https://localhost:8080/"
        },
        "id": "jkadVjBguyKl",
        "outputId": "ef2599b5-266b-4cb3-edb4-c89fa605110d"
      },
      "source": [
        "               \n",
        "def foo():\n",
        "  global z        # 전역 변수 z 선언\n",
        "  z = 10          # 전역 변수를 10으로 변경\n",
        "  print(z)\n",
        "\n",
        "foo()\n",
        "print(z)"
      ],
      "execution_count": 9,
      "outputs": [
        {
          "output_type": "stream",
          "text": [
            "10\n",
            "10\n"
          ],
          "name": "stdout"
        }
      ]
    },
    {
      "cell_type": "code",
      "metadata": {
        "id": "XIt5bGYLv9LK"
      },
      "source": [
        ""
      ],
      "execution_count": null,
      "outputs": []
    }
  ]
}