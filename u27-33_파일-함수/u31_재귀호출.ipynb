{
  "nbformat": 4,
  "nbformat_minor": 0,
  "metadata": {
    "colab": {
      "name": "u31_재귀호출.ipynb",
      "provenance": [],
      "collapsed_sections": []
    },
    "kernelspec": {
      "name": "python3",
      "display_name": "Python 3"
    },
    "language_info": {
      "name": "python"
    }
  },
  "cells": [
    {
      "cell_type": "markdown",
      "metadata": {
        "id": "tdtW2eV9uJ6a"
      },
      "source": [
        "# Unit 31. 재귀호출(Recursive Call)"
      ]
    },
    {
      "cell_type": "markdown",
      "metadata": {
        "id": "_D0smKaLuewH"
      },
      "source": [
        "### factorial 함수를 재귀호출로 구현"
      ]
    },
    {
      "cell_type": "code",
      "metadata": {
        "id": "XihV5Ty2uE3H"
      },
      "source": [
        "### factorial 함수\n",
        "def factorial(n):\n",
        "  if n == 0:                 # n == 1:\n",
        "    return 1\n",
        "  return n*factorial(n-1)"
      ],
      "execution_count": 4,
      "outputs": []
    },
    {
      "cell_type": "code",
      "metadata": {
        "colab": {
          "base_uri": "https://localhost:8080/"
        },
        "id": "QP2h4rvsu2tE",
        "outputId": "daa3aa3b-8d58-45d6-8c44-2cce742f3f1f"
      },
      "source": [
        "factorial(5)"
      ],
      "execution_count": 7,
      "outputs": [
        {
          "output_type": "execute_result",
          "data": {
            "text/plain": [
              "120"
            ]
          },
          "metadata": {
            "tags": []
          },
          "execution_count": 7
        }
      ]
    },
    {
      "cell_type": "markdown",
      "metadata": {
        "id": "8ZyZm-rOwomS"
      },
      "source": [
        "### fibonacci 수열\n",
        "- f(n) = f(n-1) + f(n-2)\n",
        "- f(1) = 1, f(2) = 1"
      ]
    },
    {
      "cell_type": "code",
      "metadata": {
        "id": "C1ArQ1rzu8WY"
      },
      "source": [
        "# 피보나치 수열\n",
        "def fibo(n):\n",
        "  if n == 1 :\n",
        "    return 1\n",
        "  if n == 2 :\n",
        "    return 1\n",
        "  return fibo(n-1)+fibo(n-2) "
      ],
      "execution_count": 20,
      "outputs": []
    },
    {
      "cell_type": "code",
      "metadata": {
        "colab": {
          "base_uri": "https://localhost:8080/"
        },
        "id": "djHTyuLcxXp2",
        "outputId": "e29e27fa-98e2-43bc-e205-51bd02946280"
      },
      "source": [
        "fibo(5)"
      ],
      "execution_count": 23,
      "outputs": [
        {
          "output_type": "execute_result",
          "data": {
            "text/plain": [
              "5"
            ]
          },
          "metadata": {
            "tags": []
          },
          "execution_count": 23
        }
      ]
    },
    {
      "cell_type": "code",
      "metadata": {
        "id": "Nq7Udfhb0hw3"
      },
      "source": [
        "def fibo(n):\n",
        "  if n == 1 or n==2:\n",
        "    return 1\n",
        "  return fibo(n-1)+fibo(n-2)"
      ],
      "execution_count": 24,
      "outputs": []
    },
    {
      "cell_type": "code",
      "metadata": {
        "colab": {
          "base_uri": "https://localhost:8080/"
        },
        "id": "axzLxkaExcFA",
        "outputId": "84bc71fa-9d65-41d8-9b87-60f78dbc2e72"
      },
      "source": [
        "[fibo(i) for i in range(1,11)]"
      ],
      "execution_count": 25,
      "outputs": [
        {
          "output_type": "execute_result",
          "data": {
            "text/plain": [
              "[1, 1, 2, 3, 5, 8, 13, 21, 34, 55]"
            ]
          },
          "metadata": {
            "tags": []
          },
          "execution_count": 25
        }
      ]
    },
    {
      "cell_type": "code",
      "metadata": {
        "id": "ADqq8b7i0yTg"
      },
      "source": [
        ""
      ],
      "execution_count": null,
      "outputs": []
    }
  ]
}