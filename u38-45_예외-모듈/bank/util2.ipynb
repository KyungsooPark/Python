{
 "cells": [
  {
   "cell_type": "code",
   "execution_count": null,
   "source": [
    "class Account:\r\n",
    "      def __init__(self, ano, owner, balance):\r\n",
    "    self.ano = ano\r\n",
    "    self.owner = owner\r\n",
    "    self.__balance = balance\r\n",
    "\r\n",
    "  def deposit(self, amount):\r\n",
    "    if amount + self.__balance >= 10000000:\r\n",
    "      print('천만원 이상은 잔액으로 가져갈 수 없습니다')\r\n",
    "      return\r\n",
    "    self.__balance += amount\r\n",
    "\r\n",
    "  def withdraw(self, amount):\r\n",
    "    if self.__balance - amount < 0:\r\n",
    "      print('잔액이 부족합니다.')\r\n",
    "      return\r\n",
    "    self.__balance -= amount\r\n",
    "\r\n",
    "  def __str__(self):\r\n",
    "    return f'계좌번호: {self.ano}, 소유주: {self.owner}, 잔액: {self.__balance:9,d}'\r\n"
   ],
   "outputs": [],
   "metadata": {}
  }
 ],
 "metadata": {
  "orig_nbformat": 4,
  "language_info": {
   "name": "python"
  }
 },
 "nbformat": 4,
 "nbformat_minor": 2
}