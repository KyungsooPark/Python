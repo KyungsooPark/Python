{
  "nbformat": 4,
  "nbformat_minor": 0,
  "metadata": {
    "colab": {
      "name": "u45_모듈 만들기.ipynb",
      "provenance": [],
      "collapsed_sections": []
    },
    "kernelspec": {
      "name": "python3",
      "display_name": "Python 3"
    },
    "language_info": {
      "name": "python"
    }
  },
  "cells": [
    {
      "cell_type": "markdown",
      "metadata": {
        "id": "5kZyrEN1sUeM"
      },
      "source": [
        "# Unit 45. 모듈 만들기"
      ]
    },
    {
      "cell_type": "markdown",
      "metadata": {
        "id": "MTLvzMVQtDI3"
      },
      "source": [
        "## 45.1 모듈 만들기(모듈=.py파일)와 모듈에서 함수 가져오기"
      ]
    },
    {
      "cell_type": "code",
      "metadata": {
        "colab": {
          "base_uri": "https://localhost:8080/"
        },
        "id": "6cGbG4r8sQXd",
        "outputId": "33a57935-9eec-42d1-ab4d-ca9de812af5c"
      },
      "source": [
        "import u45_square2 as sq\n",
        "\n",
        "print(sq.base)\n",
        "print(sq.square(10))"
      ],
      "execution_count": 3,
      "outputs": [
        {
          "output_type": "stream",
          "text": [
            "2\n",
            "1024\n"
          ],
          "name": "stdout"
        }
      ]
    },
    {
      "cell_type": "code",
      "metadata": {
        "colab": {
          "base_uri": "https://localhost:8080/"
        },
        "id": "CJZCPuZstg0U",
        "outputId": "b52c86bd-b6ee-420b-d9ce-8eb0bed4220c"
      },
      "source": [
        "!ls -l"
      ],
      "execution_count": 4,
      "outputs": [
        {
          "output_type": "stream",
          "text": [
            "total 16\n",
            "drwxr-xr-x 2 root root 4096 Aug  5 05:48 __pycache__\n",
            "drwxr-xr-x 1 root root 4096 Jul 16 13:20 sample_data\n",
            "-rw-r--r-- 1 root root  237 Aug  5 05:21 u45_person.py\n",
            "-rw-r--r-- 1 root root  118 Aug  5 05:48 u45_square2.py\n"
          ],
          "name": "stdout"
        }
      ]
    },
    {
      "cell_type": "code",
      "metadata": {
        "colab": {
          "base_uri": "https://localhost:8080/"
        },
        "id": "B1PtX4lkuU1i",
        "outputId": "547f7bb9-c8b0-48b2-d0be-ef6c76e26890"
      },
      "source": [
        "# ls = list\n",
        "!ls -l __pycache__"
      ],
      "execution_count": 5,
      "outputs": [
        {
          "output_type": "stream",
          "text": [
            "total 0\n"
          ],
          "name": "stdout"
        }
      ]
    },
    {
      "cell_type": "markdown",
      "metadata": {
        "id": "DCuF4kmLvsvk"
      },
      "source": [
        "## 45.2 클래스 만들기"
      ]
    },
    {
      "cell_type": "code",
      "metadata": {
        "colab": {
          "base_uri": "https://localhost:8080/"
        },
        "id": "UKSbIyXnufjW",
        "outputId": "31b35421-cb30-4bab-cff4-6495624baaa4"
      },
      "source": [
        "from u45_person import Person\n",
        "\n",
        "maria = Person('마리아', 25, '서울시 강남구 도곡동')\n",
        "maria.greeting()"
      ],
      "execution_count": 1,
      "outputs": [
        {
          "output_type": "stream",
          "text": [
            "안녕하세요? 저는 마리아입니다.\n"
          ],
          "name": "stdout"
        }
      ]
    },
    {
      "cell_type": "code",
      "metadata": {
        "colab": {
          "base_uri": "https://localhost:8080/"
        },
        "id": "Nuyq9KxUw4fR",
        "outputId": "ded5f50a-6fed-4425-bc46-2432d8f2716a"
      },
      "source": [
        "# 모듈을 새로 수정했을 때 사용할 것\n",
        "# rm = remove\n",
        "!ls -l __pycache__"
      ],
      "execution_count": 2,
      "outputs": [
        {
          "output_type": "stream",
          "text": [
            "total 4\n",
            "-rw-r--r-- 1 root root 600 Aug  5 05:35 u45_person.cpython-37.pyc\n"
          ],
          "name": "stdout"
        }
      ]
    },
    {
      "cell_type": "code",
      "metadata": {
        "id": "81BqepRHxGca"
      },
      "source": [
        "!rm __pycache__/*"
      ],
      "execution_count": 2,
      "outputs": []
    },
    {
      "cell_type": "markdown",
      "metadata": {
        "id": "QsCZdHLp2MFw"
      },
      "source": [
        "## 45.3 모듈과 시작점"
      ]
    },
    {
      "cell_type": "code",
      "metadata": {
        "colab": {
          "base_uri": "https://localhost:8080/"
        },
        "id": "--hJXTF_2cOx",
        "outputId": "42de0317-f589-4926-d961-0c43d3739f6e"
      },
      "source": [
        "!python u45_square2.py"
      ],
      "execution_count": 6,
      "outputs": [
        {
          "output_type": "stream",
          "text": [
            "2\n",
            "1024\n"
          ],
          "name": "stdout"
        }
      ]
    },
    {
      "cell_type": "code",
      "metadata": {
        "colab": {
          "base_uri": "https://localhost:8080/"
        },
        "id": "NrGYmt_h3ELU",
        "outputId": "24782916-d95d-4605-a73d-3acfd5f9834a"
      },
      "source": [
        "a = [1,2,3]\n",
        "dir(a)"
      ],
      "execution_count": 7,
      "outputs": [
        {
          "output_type": "execute_result",
          "data": {
            "text/plain": [
              "['__add__',\n",
              " '__class__',\n",
              " '__contains__',\n",
              " '__delattr__',\n",
              " '__delitem__',\n",
              " '__dir__',\n",
              " '__doc__',\n",
              " '__eq__',\n",
              " '__format__',\n",
              " '__ge__',\n",
              " '__getattribute__',\n",
              " '__getitem__',\n",
              " '__gt__',\n",
              " '__hash__',\n",
              " '__iadd__',\n",
              " '__imul__',\n",
              " '__init__',\n",
              " '__init_subclass__',\n",
              " '__iter__',\n",
              " '__le__',\n",
              " '__len__',\n",
              " '__lt__',\n",
              " '__mul__',\n",
              " '__ne__',\n",
              " '__new__',\n",
              " '__reduce__',\n",
              " '__reduce_ex__',\n",
              " '__repr__',\n",
              " '__reversed__',\n",
              " '__rmul__',\n",
              " '__setattr__',\n",
              " '__setitem__',\n",
              " '__sizeof__',\n",
              " '__str__',\n",
              " '__subclasshook__',\n",
              " 'append',\n",
              " 'clear',\n",
              " 'copy',\n",
              " 'count',\n",
              " 'extend',\n",
              " 'index',\n",
              " 'insert',\n",
              " 'pop',\n",
              " 'remove',\n",
              " 'reverse',\n",
              " 'sort']"
            ]
          },
          "metadata": {
            "tags": []
          },
          "execution_count": 7
        }
      ]
    },
    {
      "cell_type": "code",
      "metadata": {
        "colab": {
          "base_uri": "https://localhost:8080/",
          "height": 36
        },
        "id": "gicpwhFP3OFX",
        "outputId": "6f709da7-dcf6-466f-bccb-dbfff4bbf759"
      },
      "source": [
        "__name__"
      ],
      "execution_count": 8,
      "outputs": [
        {
          "output_type": "execute_result",
          "data": {
            "application/vnd.google.colaboratory.intrinsic+json": {
              "type": "string"
            },
            "text/plain": [
              "'__main__'"
            ]
          },
          "metadata": {
            "tags": []
          },
          "execution_count": 8
        }
      ]
    },
    {
      "cell_type": "code",
      "metadata": {
        "colab": {
          "base_uri": "https://localhost:8080/"
        },
        "id": "-yMnm8kg-ORv",
        "outputId": "d8ca39f6-7ca5-45e6-f193-62bfa8b9e60e"
      },
      "source": [
        "import u45_hello"
      ],
      "execution_count": 9,
      "outputs": [
        {
          "output_type": "stream",
          "text": [
            "hello 모듈 시작\n",
            "hello.py __name__ u45_hello\n",
            "hello 모듈 끝\n"
          ],
          "name": "stdout"
        }
      ]
    },
    {
      "cell_type": "code",
      "metadata": {
        "colab": {
          "base_uri": "https://localhost:8080/"
        },
        "id": "NhZwYWHL-3Lz",
        "outputId": "204db183-54fb-4324-c039-175b14ee6c2d"
      },
      "source": [
        "!python u45_hello.py"
      ],
      "execution_count": 10,
      "outputs": [
        {
          "output_type": "stream",
          "text": [
            "hello 모듈 시작\n",
            "hello.py __name__ __main__\n",
            "hello 모듈 끝\n"
          ],
          "name": "stdout"
        }
      ]
    },
    {
      "cell_type": "markdown",
      "metadata": {
        "id": "0b2VePOkAUgU"
      },
      "source": [
        "### Account 클래스를 bank 디렉토리 밑에 util.py 라는 이름으로 사용"
      ]
    },
    {
      "cell_type": "code",
      "metadata": {
        "id": "W5Ere3DN_DN_"
      },
      "source": [
        "!mkdir bank"
      ],
      "execution_count": 11,
      "outputs": []
    },
    {
      "cell_type": "code",
      "metadata": {
        "colab": {
          "base_uri": "https://localhost:8080/"
        },
        "id": "EVpkKOg5ArJd",
        "outputId": "21862c5c-610a-455e-db55-8f2cbd2984b9"
      },
      "source": [
        "!ls -l"
      ],
      "execution_count": 13,
      "outputs": [
        {
          "output_type": "stream",
          "text": [
            "total 24\n",
            "drwxr-xr-x 2 root root 4096 Aug  5 06:31 bank\n",
            "drwxr-xr-x 2 root root 4096 Aug  5 06:23 __pycache__\n",
            "drwxr-xr-x 1 root root 4096 Jul 16 13:20 sample_data\n",
            "-rw-r--r-- 1 root root   93 Aug  5 06:23 u45_hello.py\n",
            "-rw-r--r-- 1 root root  237 Aug  5 05:21 u45_person.py\n",
            "-rw-r--r-- 1 root root  118 Aug  5 05:48 u45_square2.py\n"
          ],
          "name": "stdout"
        }
      ]
    },
    {
      "cell_type": "code",
      "metadata": {
        "id": "jDzQw23YAw2w"
      },
      "source": [
        "from bank.u45_util import Account"
      ],
      "execution_count": 17,
      "outputs": []
    },
    {
      "cell_type": "code",
      "metadata": {
        "colab": {
          "base_uri": "https://localhost:8080/"
        },
        "id": "hltFlAaIB3AJ",
        "outputId": "a75c6e15-1188-417a-b431-3563bc80a123"
      },
      "source": [
        "acc = Account('123456', '제임스', 100000)\n",
        "print(acc)"
      ],
      "execution_count": 18,
      "outputs": [
        {
          "output_type": "stream",
          "text": [
            "계좌번호: 123456, 소유주: 제임스, 잔액:   100,000\n"
          ],
          "name": "stdout"
        }
      ]
    },
    {
      "cell_type": "code",
      "metadata": {
        "id": "jm0MlI5zEdak"
      },
      "source": [
        ""
      ],
      "execution_count": null,
      "outputs": []
    }
  ]
}