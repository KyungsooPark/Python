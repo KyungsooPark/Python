{
  "nbformat": 4,
  "nbformat_minor": 0,
  "metadata": {
    "colab": {
      "name": "u19_중첩.ipynb",
      "provenance": [],
      "collapsed_sections": []
    },
    "kernelspec": {
      "name": "python3",
      "display_name": "Python 3"
    },
    "language_info": {
      "name": "python"
    }
  },
  "cells": [
    {
      "cell_type": "markdown",
      "metadata": {
        "id": "cRffC6TybPIi"
      },
      "source": [
        "# Unit 19. 중첩 반복문"
      ]
    },
    {
      "cell_type": "markdown",
      "metadata": {
        "id": "c_saej-qbfO2"
      },
      "source": [
        "## 19.1 중첩(Nested) for loop"
      ]
    },
    {
      "cell_type": "code",
      "metadata": {
        "colab": {
          "base_uri": "https://localhost:8080/"
        },
        "id": "he0nfsTRbKwi",
        "outputId": "5c5c99e6-c74f-4f77-e4c3-456955270f36"
      },
      "source": [
        "for i in range(5):\n",
        "  for k in range(10, 60, 10):\n",
        "    print(k, end=' ')\n",
        "  print(i)"
      ],
      "execution_count": 2,
      "outputs": [
        {
          "output_type": "stream",
          "text": [
            "10 20 30 40 50 0\n",
            "10 20 30 40 50 1\n",
            "10 20 30 40 50 2\n",
            "10 20 30 40 50 3\n",
            "10 20 30 40 50 4\n"
          ],
          "name": "stdout"
        }
      ]
    },
    {
      "cell_type": "code",
      "metadata": {
        "colab": {
          "base_uri": "https://localhost:8080/"
        },
        "id": "wtREnbh8cXrB",
        "outputId": "9d7421f9-9bdf-4768-f6dc-31683bbb9fd5"
      },
      "source": [
        "for i in range(1,6):\n",
        "  for k in range(10, 60, 10):\n",
        "    print(k, end=' ')\n",
        "  print(i)"
      ],
      "execution_count": 3,
      "outputs": [
        {
          "output_type": "stream",
          "text": [
            "10 20 30 40 50 1\n",
            "10 20 30 40 50 2\n",
            "10 20 30 40 50 3\n",
            "10 20 30 40 50 4\n",
            "10 20 30 40 50 5\n"
          ],
          "name": "stdout"
        }
      ]
    },
    {
      "cell_type": "markdown",
      "metadata": {
        "id": "BrYs7MoxcuPy"
      },
      "source": [
        "## 19.2 별 사각형"
      ]
    },
    {
      "cell_type": "code",
      "metadata": {
        "colab": {
          "base_uri": "https://localhost:8080/"
        },
        "id": "W28h8EK4chVV",
        "outputId": "5bf00ece-3773-4cbf-c1f0-d05ef23221e0"
      },
      "source": [
        "for i in range(5):\n",
        "  for _ in range(5):\n",
        "    print('*', end='')\n",
        "  print()"
      ],
      "execution_count": 7,
      "outputs": [
        {
          "output_type": "stream",
          "text": [
            "*****\n",
            "*****\n",
            "*****\n",
            "*****\n",
            "*****\n"
          ],
          "name": "stdout"
        }
      ]
    },
    {
      "cell_type": "code",
      "metadata": {
        "colab": {
          "base_uri": "https://localhost:8080/"
        },
        "id": "CLTONzbTdzPZ",
        "outputId": "b328465e-cf07-476c-a4f9-a762aa8667fb"
      },
      "source": [
        "for i in range(5):\n",
        "  for _ in range(5):\n",
        "    print('*')\n",
        "  print()"
      ],
      "execution_count": 8,
      "outputs": [
        {
          "output_type": "stream",
          "text": [
            "*\n",
            "*\n",
            "*\n",
            "*\n",
            "*\n",
            "\n",
            "*\n",
            "*\n",
            "*\n",
            "*\n",
            "*\n",
            "\n",
            "*\n",
            "*\n",
            "*\n",
            "*\n",
            "*\n",
            "\n",
            "*\n",
            "*\n",
            "*\n",
            "*\n",
            "*\n",
            "\n",
            "*\n",
            "*\n",
            "*\n",
            "*\n",
            "*\n",
            "\n"
          ],
          "name": "stdout"
        }
      ]
    },
    {
      "cell_type": "markdown",
      "metadata": {
        "id": "XNJFwV2XdqX9"
      },
      "source": [
        "## 19.3 평행사변형"
      ]
    },
    {
      "cell_type": "code",
      "metadata": {
        "colab": {
          "base_uri": "https://localhost:8080/"
        },
        "id": "jZ7oNtkCdDMC",
        "outputId": "b64cf268-cbcb-49ee-ee62-9351d9400df7"
      },
      "source": [
        "for i in range(4):\n",
        "  for k in range(0,i):\n",
        "    print(' ', end='')\n",
        "  for _ in range(5):\n",
        "    print('*', end='')\n",
        "  print()"
      ],
      "execution_count": 9,
      "outputs": [
        {
          "output_type": "stream",
          "text": [
            "*****\n",
            " *****\n",
            "  *****\n",
            "   *****\n"
          ],
          "name": "stdout"
        }
      ]
    },
    {
      "cell_type": "code",
      "metadata": {
        "id": "J0erwmP_edvn"
      },
      "source": [
        "for i in range(0,0):\n",
        "  print('*')"
      ],
      "execution_count": 12,
      "outputs": []
    },
    {
      "cell_type": "code",
      "metadata": {
        "colab": {
          "base_uri": "https://localhost:8080/"
        },
        "id": "ELrlGvZeepBE",
        "outputId": "932a78bf-b557-43d8-b96c-e4e3c00d5cb9"
      },
      "source": [
        "for i in range(4):\n",
        "  print(' '*i, '*'*5, sep='')"
      ],
      "execution_count": 14,
      "outputs": [
        {
          "output_type": "stream",
          "text": [
            "*****\n",
            " *****\n",
            "  *****\n",
            "   *****\n"
          ],
          "name": "stdout"
        }
      ]
    },
    {
      "cell_type": "markdown",
      "metadata": {
        "id": "idGV0JiwfQhN"
      },
      "source": [
        "## 19.3 계단식 별모양"
      ]
    },
    {
      "cell_type": "code",
      "metadata": {
        "colab": {
          "base_uri": "https://localhost:8080/"
        },
        "id": "nP55P42je-zM",
        "outputId": "37339984-e3f8-4513-f888-eea7642bbdb0"
      },
      "source": [
        "for i in range(5):\n",
        "  for _ in range(i+1):\n",
        "    print('*', end='')\n",
        "  print()"
      ],
      "execution_count": 16,
      "outputs": [
        {
          "output_type": "stream",
          "text": [
            "*\n",
            "**\n",
            "***\n",
            "****\n",
            "*****\n"
          ],
          "name": "stdout"
        }
      ]
    },
    {
      "cell_type": "code",
      "metadata": {
        "colab": {
          "base_uri": "https://localhost:8080/"
        },
        "id": "l5g_UU-qfzKX",
        "outputId": "78ac87e4-7b45-4479-b5e9-7e55049d7eb2"
      },
      "source": [
        "for i in range(5):\n",
        "  for _ in range(i+1):\n",
        "    print('*', end='')"
      ],
      "execution_count": 17,
      "outputs": [
        {
          "output_type": "stream",
          "text": [
            "***************"
          ],
          "name": "stdout"
        }
      ]
    },
    {
      "cell_type": "code",
      "metadata": {
        "colab": {
          "base_uri": "https://localhost:8080/"
        },
        "id": "5Wxdepshf8-E",
        "outputId": "d548a24e-8846-40e0-a51d-6b4f1e1e0865"
      },
      "source": [
        "for i in range(5):\n",
        "  for _ in range(i+1):\n",
        "    print(' ', end='')\n",
        "  for _ in range(5-i):\n",
        "    print('*', end='')\n",
        "  print()"
      ],
      "execution_count": 18,
      "outputs": [
        {
          "output_type": "stream",
          "text": [
            " *****\n",
            "  ****\n",
            "   ***\n",
            "    **\n",
            "     *\n"
          ],
          "name": "stdout"
        }
      ]
    },
    {
      "cell_type": "code",
      "metadata": {
        "colab": {
          "base_uri": "https://localhost:8080/"
        },
        "id": "-aEmbbRegwVi",
        "outputId": "77136736-4be6-4ece-d2d5-45dcddb658a2"
      },
      "source": [
        "for i in range(5):\n",
        "  print(' '*i, '*'*(5-i), sep='')"
      ],
      "execution_count": 19,
      "outputs": [
        {
          "output_type": "stream",
          "text": [
            "*****\n",
            " ****\n",
            "  ***\n",
            "   **\n",
            "    *\n"
          ],
          "name": "stdout"
        }
      ]
    },
    {
      "cell_type": "markdown",
      "metadata": {
        "id": "IBrIBh2ShiuB"
      },
      "source": [
        "## 문제 : 다이아몬드 그리기"
      ]
    },
    {
      "cell_type": "code",
      "metadata": {
        "colab": {
          "base_uri": "https://localhost:8080/"
        },
        "id": "d5HIQW95hWOg",
        "outputId": "e2860673-a4f9-47ae-b584-573468f64a57"
      },
      "source": [
        "for i in range(5):\n",
        "  for _ in range(4-i):\n",
        "    print(' ', end='')\n",
        "  for _ in range(2*i+1):\n",
        "    print('*', end='')\n",
        "  print()"
      ],
      "execution_count": 23,
      "outputs": [
        {
          "output_type": "stream",
          "text": [
            "    *\n",
            "   ***\n",
            "  *****\n",
            " *******\n",
            "*********\n"
          ],
          "name": "stdout"
        }
      ]
    },
    {
      "cell_type": "code",
      "metadata": {
        "colab": {
          "base_uri": "https://localhost:8080/"
        },
        "id": "2a1Up6zei5rG",
        "outputId": "fc3eee2a-ef55-4f22-aed3-c5f50f54b141"
      },
      "source": [
        "for i in range(5):\n",
        "  for _ in range(4-i):\n",
        "    print(' ', end='')\n",
        "  for _ in range(2*i+1):\n",
        "    print('*', end='')\n",
        "  print()\n",
        "for i in range(4):\n",
        "   for _ in range(i+1):\n",
        "      print(' ', end='')\n",
        "   for _ in range(7-2*i):\n",
        "      print('*', end='')\n",
        "   print()\n"
      ],
      "execution_count": 37,
      "outputs": [
        {
          "output_type": "stream",
          "text": [
            "    *\n",
            "   ***\n",
            "  *****\n",
            " *******\n",
            "*********\n",
            " *******\n",
            "  *****\n",
            "   ***\n",
            "    *\n"
          ],
          "name": "stdout"
        }
      ]
    },
    {
      "cell_type": "code",
      "metadata": {
        "colab": {
          "base_uri": "https://localhost:8080/"
        },
        "id": "zRUNDaKMmCfR",
        "outputId": "6c59fa39-1ff4-41f1-ebf5-5a331a6acd3c"
      },
      "source": [
        "for i in range(5):\n",
        "  print(' '*(4-i), '*'*(2*i+1), sep='')\n",
        "for i in range(4):\n",
        "  print(' '*(i+1), '*'*(7-2*i), sep='')  "
      ],
      "execution_count": 34,
      "outputs": [
        {
          "output_type": "stream",
          "text": [
            "    *\n",
            "   ***\n",
            "  *****\n",
            " *******\n",
            "*********\n",
            " *******\n",
            "  *****\n",
            "   ***\n",
            "    *\n"
          ],
          "name": "stdout"
        }
      ]
    },
    {
      "cell_type": "code",
      "metadata": {
        "colab": {
          "base_uri": "https://localhost:8080/"
        },
        "id": "l7KjHTzlnYrG",
        "outputId": "33832ede-86b1-4168-b0eb-b15e9a0d2913"
      },
      "source": [
        "# sep가 없으면 블랭크 1칸 생김\n",
        "for i in range(5):\n",
        "  print(' '*(4-i), '*'*(2*i+1))\n",
        "for i in range(4):\n",
        "  print(' '*(i+1), '*'*(7-2*i))  "
      ],
      "execution_count": 39,
      "outputs": [
        {
          "output_type": "stream",
          "text": [
            "     *\n",
            "    ***\n",
            "   *****\n",
            "  *******\n",
            " *********\n",
            "  *******\n",
            "   *****\n",
            "    ***\n",
            "     *\n"
          ],
          "name": "stdout"
        }
      ]
    },
    {
      "cell_type": "code",
      "metadata": {
        "colab": {
          "base_uri": "https://localhost:8080/"
        },
        "id": "ZsRSQv57ou9j",
        "outputId": "f5f74a5a-8707-4d6c-9c20-4ecb6ceea8cf"
      },
      "source": [
        "for i in range(-4, 5):\n",
        "    print(' ' * (abs(i)),'*' * (-2*abs(i)+9), sep='')"
      ],
      "execution_count": 42,
      "outputs": [
        {
          "output_type": "stream",
          "text": [
            "    *\n",
            "   ***\n",
            "  *****\n",
            " *******\n",
            "*********\n",
            " *******\n",
            "  *****\n",
            "   ***\n",
            "    *\n"
          ],
          "name": "stdout"
        }
      ]
    },
    {
      "cell_type": "code",
      "metadata": {
        "id": "3ue5ysxCppzm"
      },
      "source": [
        ""
      ],
      "execution_count": null,
      "outputs": []
    }
  ]
}