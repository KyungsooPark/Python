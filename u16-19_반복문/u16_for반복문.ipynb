{
  "nbformat": 4,
  "nbformat_minor": 0,
  "metadata": {
    "colab": {
      "name": "u16_for반복문.ipynb",
      "provenance": [],
      "collapsed_sections": []
    },
    "kernelspec": {
      "name": "python3",
      "display_name": "Python 3"
    },
    "language_info": {
      "name": "python"
    }
  },
  "cells": [
    {
      "cell_type": "markdown",
      "metadata": {
        "id": "gBTdB-1Ms8t6"
      },
      "source": [
        "# Unit 16. for 반복문"
      ]
    },
    {
      "cell_type": "markdown",
      "metadata": {
        "id": "bqXWQqlVtGxq"
      },
      "source": [
        "## 16.1 for와 range"
      ]
    },
    {
      "cell_type": "code",
      "metadata": {
        "colab": {
          "base_uri": "https://localhost:8080/"
        },
        "id": "nGGCc-4Wsshj",
        "outputId": "7855bf01-0129-4789-d470-1d2469dc67c0"
      },
      "source": [
        "for i in range(10):\n",
        "  print('Hello world!')"
      ],
      "execution_count": null,
      "outputs": [
        {
          "output_type": "stream",
          "text": [
            "Hello world!\n",
            "Hello world!\n",
            "Hello world!\n",
            "Hello world!\n",
            "Hello world!\n",
            "Hello world!\n",
            "Hello world!\n",
            "Hello world!\n",
            "Hello world!\n",
            "Hello world!\n"
          ],
          "name": "stdout"
        }
      ]
    },
    {
      "cell_type": "code",
      "metadata": {
        "colab": {
          "base_uri": "https://localhost:8080/"
        },
        "id": "u1vbeuAxtfPj",
        "outputId": "32f828ff-b5a5-4100-e5a3-990da0cae9f0"
      },
      "source": [
        "for i in range(10):\n",
        "  print('Hello world!', i)"
      ],
      "execution_count": null,
      "outputs": [
        {
          "output_type": "stream",
          "text": [
            "Hello world! 0\n",
            "Hello world! 1\n",
            "Hello world! 2\n",
            "Hello world! 3\n",
            "Hello world! 4\n",
            "Hello world! 5\n",
            "Hello world! 6\n",
            "Hello world! 7\n",
            "Hello world! 8\n",
            "Hello world! 9\n"
          ],
          "name": "stdout"
        }
      ]
    },
    {
      "cell_type": "markdown",
      "metadata": {
        "id": "S2Ka5HHJwAZc"
      },
      "source": [
        "## for문 언더바 사용"
      ]
    },
    {
      "cell_type": "code",
      "metadata": {
        "colab": {
          "base_uri": "https://localhost:8080/"
        },
        "id": "0jl4qr3mvS24",
        "outputId": "00872bf9-8b1d-47fc-e245-373be783c2ca"
      },
      "source": [
        "# _(언더바 더미처리)\n",
        "for _ in range(10):\n",
        "  print('Hello world!', i)"
      ],
      "execution_count": null,
      "outputs": [
        {
          "output_type": "stream",
          "text": [
            "Hello world! 9\n",
            "Hello world! 9\n",
            "Hello world! 9\n",
            "Hello world! 9\n",
            "Hello world! 9\n",
            "Hello world! 9\n",
            "Hello world! 9\n",
            "Hello world! 9\n",
            "Hello world! 9\n",
            "Hello world! 9\n"
          ],
          "name": "stdout"
        }
      ]
    },
    {
      "cell_type": "markdown",
      "metadata": {
        "id": "o7CFo1ZdyDWw"
      },
      "source": [
        "## 16.2 for와 range 응용"
      ]
    },
    {
      "cell_type": "code",
      "metadata": {
        "id": "oRzu6ezFy5H6"
      },
      "source": [
        "for i in range(0, 10, 2):\n",
        "  print('Hello world!', i)"
      ],
      "execution_count": null,
      "outputs": []
    },
    {
      "cell_type": "code",
      "metadata": {
        "colab": {
          "base_uri": "https://localhost:8080/"
        },
        "id": "r1tDGDGZwGnv",
        "outputId": "e35eda36-62d8-467f-ad42-cf1f85f96ced"
      },
      "source": [
        "for i in range(0, 10, 2):\n",
        "  print('Hello world!', i)"
      ],
      "execution_count": null,
      "outputs": [
        {
          "output_type": "stream",
          "text": [
            "Hello world! 0\n",
            "Hello world! 2\n",
            "Hello world! 4\n",
            "Hello world! 6\n",
            "Hello world! 8\n"
          ],
          "name": "stdout"
        }
      ]
    },
    {
      "cell_type": "code",
      "metadata": {
        "colab": {
          "base_uri": "https://localhost:8080/"
        },
        "id": "CyuvLKrFyZpL",
        "outputId": "04bc4c01-4582-4034-bae1-00c3dddddbbb"
      },
      "source": [
        "for i in range(10, 0, -2):\n",
        "  print('Hello world!', i)"
      ],
      "execution_count": null,
      "outputs": [
        {
          "output_type": "stream",
          "text": [
            "Hello world! 10\n",
            "Hello world! 8\n",
            "Hello world! 6\n",
            "Hello world! 4\n",
            "Hello world! 2\n"
          ],
          "name": "stdout"
        }
      ]
    },
    {
      "cell_type": "code",
      "metadata": {
        "id": "1LkFT0tQydIZ",
        "colab": {
          "base_uri": "https://localhost:8080/"
        },
        "outputId": "ec8d2588-9d77-4dcf-861d-ff8496f0996c"
      },
      "source": [
        "for i in range(1, 101):\n",
        "  print('fizz'*(i%3==0) + 'buzz'*(i%5==0) or i, end=' ')\n",
        "  if (i % 10 == 0):\n",
        "    print()"
      ],
      "execution_count": 12,
      "outputs": [
        {
          "output_type": "stream",
          "text": [
            "1 2 fizz 4 buzz fizz 7 8 fizz buzz \n",
            "11 fizz 13 14 fizzbuzz 16 17 fizz 19 buzz \n",
            "fizz 22 23 fizz buzz 26 fizz 28 29 fizzbuzz \n",
            "31 32 fizz 34 buzz fizz 37 38 fizz buzz \n",
            "41 fizz 43 44 fizzbuzz 46 47 fizz 49 buzz \n",
            "fizz 52 53 fizz buzz 56 fizz 58 59 fizzbuzz \n",
            "61 62 fizz 64 buzz fizz 67 68 fizz buzz \n",
            "71 fizz 73 74 fizzbuzz 76 77 fizz 79 buzz \n",
            "fizz 82 83 fizz buzz 86 fizz 88 89 fizzbuzz \n",
            "91 92 fizz 94 buzz fizz 97 98 fizz buzz \n"
          ],
          "name": "stdout"
        }
      ]
    },
    {
      "cell_type": "markdown",
      "metadata": {
        "id": "nAnJjS_yz7go"
      },
      "source": [
        "## 16.3 시퀀스 객체 반복"
      ]
    },
    {
      "cell_type": "code",
      "metadata": {
        "colab": {
          "base_uri": "https://localhost:8080/"
        },
        "id": "Ykb1Z9_DzrSD",
        "outputId": "77c096ca-3f81-4b0d-ab7d-37b2ebc2f161"
      },
      "source": [
        "fruits = ['apple', 'banana', 'cherry']\n",
        "for element in fruits:\n",
        "  print(element)"
      ],
      "execution_count": 13,
      "outputs": [
        {
          "output_type": "stream",
          "text": [
            "apple\n",
            "banana\n",
            "cherry\n"
          ],
          "name": "stdout"
        }
      ]
    },
    {
      "cell_type": "code",
      "metadata": {
        "colab": {
          "base_uri": "https://localhost:8080/"
        },
        "id": "U5-QTlN60Wui",
        "outputId": "32e15b79-651b-4108-f791-b8788fbe2f47"
      },
      "source": [
        "# 변수명이 의미를 갖도록 정해야 한다 a로 하면 추후 뭔지 알 수 없다\n",
        "fruits = ['apple', 'banana', 'cherry']\n",
        "for a in fruits:\n",
        "  print(a)"
      ],
      "execution_count": 14,
      "outputs": [
        {
          "output_type": "stream",
          "text": [
            "apple\n",
            "banana\n",
            "cherry\n"
          ],
          "name": "stdout"
        }
      ]
    },
    {
      "cell_type": "code",
      "metadata": {
        "colab": {
          "base_uri": "https://localhost:8080/"
        },
        "id": "N41UbPdQ0kWx",
        "outputId": "b176bc2f-49e1-4e7e-e7ff-4187809e6c49"
      },
      "source": [
        "# 변수 이름이 중요하다\n",
        "fruits = ['apple', 'banana', 'cherry']\n",
        "for fruit in fruits:\n",
        "  print(fruit)"
      ],
      "execution_count": 15,
      "outputs": [
        {
          "output_type": "stream",
          "text": [
            "apple\n",
            "banana\n",
            "cherry\n"
          ],
          "name": "stdout"
        }
      ]
    },
    {
      "cell_type": "code",
      "metadata": {
        "colab": {
          "base_uri": "https://localhost:8080/"
        },
        "id": "AIffQzr80sOX",
        "outputId": "6a5bcc24-25c3-4b8e-fdd1-72394e709e76"
      },
      "source": [
        "for letter in 'Python':\n",
        "  print(letter)"
      ],
      "execution_count": 16,
      "outputs": [
        {
          "output_type": "stream",
          "text": [
            "P\n",
            "y\n",
            "t\n",
            "h\n",
            "o\n",
            "n\n"
          ],
          "name": "stdout"
        }
      ]
    },
    {
      "cell_type": "code",
      "metadata": {
        "colab": {
          "base_uri": "https://localhost:8080/"
        },
        "id": "3K2FzE6t2lBt",
        "outputId": "07989187-93cb-4ec9-cad5-cd9578e2b26f"
      },
      "source": [
        "for letter in 'Python':\n",
        "  print(letter, end=' ')"
      ],
      "execution_count": 17,
      "outputs": [
        {
          "output_type": "stream",
          "text": [
            "P y t h o n "
          ],
          "name": "stdout"
        }
      ]
    },
    {
      "cell_type": "code",
      "metadata": {
        "colab": {
          "base_uri": "https://localhost:8080/"
        },
        "id": "B2wyZzbZ2qZt",
        "outputId": "b7e911a4-f97c-4c67-fcd0-e923f5a1de4c"
      },
      "source": [
        "for letter in reversed('Python'):\n",
        "  print(letter, end=' ')"
      ],
      "execution_count": 18,
      "outputs": [
        {
          "output_type": "stream",
          "text": [
            "n o h t y P "
          ],
          "name": "stdout"
        }
      ]
    },
    {
      "cell_type": "code",
      "metadata": {
        "colab": {
          "base_uri": "https://localhost:8080/"
        },
        "id": "nEP0SiNz22mR",
        "outputId": "250bc930-de05-4bcf-b9dc-51920325d039"
      },
      "source": [
        "for number in (10, 20, 30):\n",
        "  print(number)"
      ],
      "execution_count": 19,
      "outputs": [
        {
          "output_type": "stream",
          "text": [
            "10\n",
            "20\n",
            "30\n"
          ],
          "name": "stdout"
        }
      ]
    },
    {
      "cell_type": "code",
      "metadata": {
        "colab": {
          "base_uri": "https://localhost:8080/"
        },
        "id": "eJEcIF0E3NTY",
        "outputId": "4bbee931-3475-472d-fede-925f304f25f7"
      },
      "source": [
        "s = 'coffee'\n",
        "n = 5\n",
        "print(f'저는 {s}를 좋아합니다 하루 {n}잔 마셔요')"
      ],
      "execution_count": 20,
      "outputs": [
        {
          "output_type": "stream",
          "text": [
            "저는 coffee를 좋아합니다 하루 5잔 마셔요\n"
          ],
          "name": "stdout"
        }
      ]
    },
    {
      "cell_type": "markdown",
      "metadata": {
        "id": "NvvAbIi68GAy"
      },
      "source": [
        "## Perfect Number 문제\n",
        "- 자기 자신을 제외한 약수의 합이 자기자신과 같은 수\n",
        "- 6의 약수 : 1,2,3,6\n",
        "- 6 = 1+2+3\n",
        "- 10000 이하의 자연수에선 4개"
      ]
    },
    {
      "cell_type": "code",
      "metadata": {
        "colab": {
          "base_uri": "https://localhost:8080/"
        },
        "id": "xxGnDww08FXu",
        "outputId": "8c261ba1-859e-4974-fcf2-7cae07606aef"
      },
      "source": [
        "for i in range(2, 11):\n",
        "  for k in range(1, i):\n",
        "    if i % k == 0:\n",
        "      print(f'{k}은/는 {i}의 약수')"
      ],
      "execution_count": 21,
      "outputs": [
        {
          "output_type": "stream",
          "text": [
            "1은/는 2의 약수\n",
            "1은/는 3의 약수\n",
            "1은/는 4의 약수\n",
            "2은/는 4의 약수\n",
            "1은/는 5의 약수\n",
            "1은/는 6의 약수\n",
            "2은/는 6의 약수\n",
            "3은/는 6의 약수\n",
            "1은/는 7의 약수\n",
            "1은/는 8의 약수\n",
            "2은/는 8의 약수\n",
            "4은/는 8의 약수\n",
            "1은/는 9의 약수\n",
            "3은/는 9의 약수\n",
            "1은/는 10의 약수\n",
            "2은/는 10의 약수\n",
            "5은/는 10의 약수\n"
          ],
          "name": "stdout"
        }
      ]
    },
    {
      "cell_type": "code",
      "metadata": {
        "colab": {
          "base_uri": "https://localhost:8080/"
        },
        "id": "G5NoTlZp8KXu",
        "outputId": "b2e63006-ad8d-4004-9153-1f034614acae"
      },
      "source": [
        "for i in range(2, 10001):\n",
        "    sum_of_divisor = 0\n",
        "    for k in range(1, i):\n",
        "        if i % k == 0:\n",
        "            sum_of_divisor += k\n",
        "\n",
        "    if i == sum_of_divisor:\n",
        "        print(i)"
      ],
      "execution_count": 32,
      "outputs": [
        {
          "output_type": "stream",
          "text": [
            "6\n",
            "28\n",
            "496\n",
            "8128\n"
          ],
          "name": "stdout"
        }
      ]
    },
    {
      "cell_type": "code",
      "metadata": {
        "colab": {
          "base_uri": "https://localhost:8080/"
        },
        "id": "0EfAuZma9DnW",
        "outputId": "d3e84439-95b3-4921-f287-8df55c44f0fd"
      },
      "source": [
        "perfect_numbers = []\n",
        "for i in range(2, 10001):\n",
        "    divisor_list = []\n",
        "    for k in range(1, i):\n",
        "        if i % k == 0:\n",
        "            divisor_list.append(k)\n",
        "\n",
        "    if i == sum(divisor_list):\n",
        "        perfect_numbers.append(i)\n",
        "\n",
        "print(perfect_numbers)"
      ],
      "execution_count": 33,
      "outputs": [
        {
          "output_type": "stream",
          "text": [
            "[6, 28, 496, 8128]\n"
          ],
          "name": "stdout"
        }
      ]
    },
    {
      "cell_type": "code",
      "metadata": {
        "id": "w5hNpG4f-GMu"
      },
      "source": [
        ""
      ],
      "execution_count": null,
      "outputs": []
    }
  ]
}