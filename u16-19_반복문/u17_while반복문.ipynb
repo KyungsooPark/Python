{
  "nbformat": 4,
  "nbformat_minor": 0,
  "metadata": {
    "colab": {
      "name": "u17_while반복문.ipynb",
      "provenance": [],
      "collapsed_sections": []
    },
    "kernelspec": {
      "name": "python3",
      "display_name": "Python 3"
    },
    "language_info": {
      "name": "python"
    }
  },
  "cells": [
    {
      "cell_type": "markdown",
      "metadata": {
        "id": "j5YR1e59Awm9"
      },
      "source": [
        "# Unit 17. while 반복문"
      ]
    },
    {
      "cell_type": "markdown",
      "metadata": {
        "id": "u_BPrNhmA7J0"
      },
      "source": [
        "## Unit 17.1 while 반복문\n",
        "- 반복 횟수가 정해져 있는 반복문은 while을 쓰지 않는다."
      ]
    },
    {
      "cell_type": "markdown",
      "metadata": {
        "id": "unjzCphXBIe3"
      },
      "source": [
        "## while 조건 : \n",
        "## 조건이 참인 동안 loop를 반복"
      ]
    },
    {
      "cell_type": "markdown",
      "metadata": {
        "id": "Vc9aB61UCPLe"
      },
      "source": [
        "## Unit 17.2 반복 횟수가 없는 반복문"
      ]
    },
    {
      "cell_type": "code",
      "metadata": {
        "id": "4siSAl5NA48E"
      },
      "source": [
        "import random"
      ],
      "execution_count": 3,
      "outputs": []
    },
    {
      "cell_type": "code",
      "metadata": {
        "colab": {
          "base_uri": "https://localhost:8080/"
        },
        "id": "8m6dofpFCYv6",
        "outputId": "7260dcf9-f492-4bfd-ef89-ed7bfeb05ea9"
      },
      "source": [
        "random.random()"
      ],
      "execution_count": 4,
      "outputs": [
        {
          "output_type": "execute_result",
          "data": {
            "text/plain": [
              "0.9514081384248227"
            ]
          },
          "metadata": {
            "tags": []
          },
          "execution_count": 4
        }
      ]
    },
    {
      "cell_type": "code",
      "metadata": {
        "colab": {
          "base_uri": "https://localhost:8080/"
        },
        "id": "Kb2AWjWhCdM7",
        "outputId": "53af0467-e225-4ea9-dd26-cc1725a51f5a"
      },
      "source": [
        "random.randint(1, 6)"
      ],
      "execution_count": 9,
      "outputs": [
        {
          "output_type": "execute_result",
          "data": {
            "text/plain": [
              "5"
            ]
          },
          "metadata": {
            "tags": []
          },
          "execution_count": 9
        }
      ]
    },
    {
      "cell_type": "code",
      "metadata": {
        "colab": {
          "base_uri": "https://localhost:8080/"
        },
        "id": "wNVrn3v5CrwQ",
        "outputId": "01570888-5d14-4c1e-9279-66fb9420cc7d"
      },
      "source": [
        "i=0\n",
        "while i !=3:\n",
        "  i = random.randint(1,6)\n",
        "  print(i)"
      ],
      "execution_count": 11,
      "outputs": [
        {
          "output_type": "stream",
          "text": [
            "4\n",
            "5\n",
            "6\n",
            "3\n"
          ],
          "name": "stdout"
        }
      ]
    },
    {
      "cell_type": "code",
      "metadata": {
        "colab": {
          "base_uri": "https://localhost:8080/"
        },
        "id": "T1Kgaee2DE_X",
        "outputId": "b7c6ea2f-96e1-41b1-c18b-4b56d8845807"
      },
      "source": [
        "i = 0\n",
        "dice = list(range(1,7))\n",
        "while i !=3:\n",
        "  i = random.choice(dice)\n",
        "  print(i)"
      ],
      "execution_count": 16,
      "outputs": [
        {
          "output_type": "stream",
          "text": [
            "1\n",
            "4\n",
            "5\n",
            "3\n"
          ],
          "name": "stdout"
        }
      ]
    },
    {
      "cell_type": "code",
      "metadata": {
        "colab": {
          "base_uri": "https://localhost:8080/"
        },
        "id": "aM1KRof1D0qr",
        "outputId": "33c7fba6-2b7f-47cc-bf95-4364823bacb9"
      },
      "source": [
        "i = 0\n",
        "dice = [1,2,3,4,5,6]\n",
        "while i !=3:\n",
        "  i = random.choice(dice)\n",
        "  print(i)"
      ],
      "execution_count": 27,
      "outputs": [
        {
          "output_type": "stream",
          "text": [
            "2\n",
            "1\n",
            "3\n"
          ],
          "name": "stdout"
        }
      ]
    },
    {
      "cell_type": "code",
      "metadata": {
        "colab": {
          "base_uri": "https://localhost:8080/"
        },
        "id": "qbY6gkSBEJ3X",
        "outputId": "5800554d-c579-4ed2-980b-44f5b3dd6284"
      },
      "source": [
        "random.sample(dice,6)"
      ],
      "execution_count": 28,
      "outputs": [
        {
          "output_type": "execute_result",
          "data": {
            "text/plain": [
              "[2, 4, 5, 6, 3, 1]"
            ]
          },
          "metadata": {
            "tags": []
          },
          "execution_count": 28
        }
      ]
    },
    {
      "cell_type": "code",
      "metadata": {
        "id": "td66s0ShECQE"
      },
      "source": [
        ""
      ],
      "execution_count": null,
      "outputs": []
    }
  ]
}